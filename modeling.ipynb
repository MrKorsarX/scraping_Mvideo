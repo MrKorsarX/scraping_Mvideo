{
 "cells": [
  {
   "cell_type": "markdown",
   "id": "a633982e-c848-4581-98f0-05e2eb57023f",
   "metadata": {},
   "source": [
    "# Импорты"
   ]
  },
  {
   "cell_type": "code",
   "execution_count": 74,
   "id": "3c1270f1-c612-4d63-886b-1eaad1c2a9c1",
   "metadata": {},
   "outputs": [],
   "source": [
    "import pandas as pd\n",
    "import numpy as np\n",
    "import matplotlib.pyplot as plt\n",
    "import seaborn as sns\n",
    "import torch\n",
    "\n",
    "from transformers import BertModel, BertTokenizer\n",
    "from torch import nn\n",
    "from sklearn.model_selection import train_test_split, RepeatedStratifiedKFold\n",
    "from sklearn.metrics import roc_auc_score, f1_score\n",
    "from catboost import CatBoostClassifier, Pool, cv, sum_models\n",
    "from tqdm import tqdm\n",
    "\n",
    "%matplotlib inline"
   ]
  },
  {
   "cell_type": "markdown",
   "id": "83be8db5-2a61-49d8-a3f3-3ff6cc6133f1",
   "metadata": {},
   "source": [
    "# Читаем данные"
   ]
  },
  {
   "cell_type": "code",
   "execution_count": 10,
   "id": "d119c76a-d957-4c0e-ba59-4ff721d25162",
   "metadata": {},
   "outputs": [],
   "source": [
    "df_det = pd.read_csv('data/details.csv')"
   ]
  },
  {
   "cell_type": "code",
   "execution_count": 11,
   "id": "9d204312-1b3f-4259-af41-68254538f3df",
   "metadata": {},
   "outputs": [],
   "source": [
    "df_rev = pd.read_csv('data/reviews.csv')"
   ]
  },
  {
   "cell_type": "markdown",
   "id": "66337e65-b7b4-4ece-9554-149c2e60fe74",
   "metadata": {},
   "source": [
    "# Отбираем признаки"
   ]
  },
  {
   "cell_type": "code",
   "execution_count": 12,
   "id": "7f737a07-4502-4f56-b59d-36191d245ff1",
   "metadata": {},
   "outputs": [],
   "source": [
    "cat_col_det = ['brandName', 'modelName', 'Серия', 'SIM карта', 'Поддержка стандартов', 'Порт USB', 'Материал корпуса', \n",
    "          'Поддержка беспроводной зарядки', 'Цвет', 'Операционная система', 'Разъем для наушников', 'Экран',\n",
    "          'Процессор', 'Оперативная память (RAM)', 'Основная камера МПикс', 'Встроенная память (ROM)']\n",
    "\n",
    "num_col_det = ['basePrice', 'salePrice']\n",
    "\n",
    "col_for_mod_det = ['id_prod', 'brandName', 'modelName', 'Серия', 'SIM карта', 'Поддержка стандартов', 'Порт USB', 'Материал корпуса', \n",
    "          'Поддержка беспроводной зарядки', 'Цвет', 'Операционная система', 'Разъем для наушников', 'Экран',\n",
    "          'Процессор', 'Оперативная память (RAM)', 'Основная камера МПикс', 'Встроенная память (ROM)', 'basePrice', 'salePrice']\n",
    "\n",
    "inf_col_det = [f for f in df_det.columns if f not in cat_col_det and f not in num_col_det]"
   ]
  },
  {
   "cell_type": "code",
   "execution_count": null,
   "id": "d6b20569-50c3-4fd9-9a14-ff1cb085646c",
   "metadata": {},
   "outputs": [],
   "source": []
  },
  {
   "cell_type": "code",
   "execution_count": 13,
   "id": "e1a48776-3535-402b-a6d9-3000c92c31ba",
   "metadata": {},
   "outputs": [],
   "source": [
    "emb_col_rev = ['benefits', 'drawbacks', 'text']\n",
    "cat_col_rev = ['name']\n",
    "col_for_mod_rev = ['benefits', 'drawbacks', 'text', 'name', 'score', 'product_id', 'date']\n",
    "inf_col_rev = [f for f in df_rev.columns if f not in cat_col_rev and f not in emb_col_rev]\n",
    "target = 'score'"
   ]
  },
  {
   "cell_type": "code",
   "execution_count": 14,
   "id": "6fd6c1bc-b4a3-4f2f-b32f-ad04ac04a9cd",
   "metadata": {},
   "outputs": [],
   "source": [
    "df_det[cat_col_det] = df_det[cat_col_det].fillna('NaN')"
   ]
  },
  {
   "cell_type": "code",
   "execution_count": 15,
   "id": "c73eedfe-542a-4b91-a421-dee29fccfc50",
   "metadata": {},
   "outputs": [],
   "source": [
    "df_rev[emb_col_rev] = df_rev[emb_col_rev].fillna('NaN')"
   ]
  },
  {
   "cell_type": "code",
   "execution_count": null,
   "id": "d9f511e1-b936-4f74-a4dd-ba379c892af9",
   "metadata": {},
   "outputs": [],
   "source": []
  },
  {
   "cell_type": "code",
   "execution_count": 16,
   "id": "da7cdddd-c950-428a-a60b-379ecbe5c92d",
   "metadata": {},
   "outputs": [],
   "source": [
    "df_rev['date'] = pd.to_datetime(df_rev['date'])"
   ]
  },
  {
   "cell_type": "code",
   "execution_count": 17,
   "id": "ed8cb39b-fa30-469c-acd9-227256192597",
   "metadata": {},
   "outputs": [
    {
     "data": {
      "text/html": [
       "<div>\n",
       "<style scoped>\n",
       "    .dataframe tbody tr th:only-of-type {\n",
       "        vertical-align: middle;\n",
       "    }\n",
       "\n",
       "    .dataframe tbody tr th {\n",
       "        vertical-align: top;\n",
       "    }\n",
       "\n",
       "    .dataframe thead th {\n",
       "        text-align: right;\n",
       "    }\n",
       "</style>\n",
       "<table border=\"1\" class=\"dataframe\">\n",
       "  <thead>\n",
       "    <tr style=\"text-align: right;\">\n",
       "      <th></th>\n",
       "      <th>id_prod</th>\n",
       "      <th>brandName</th>\n",
       "      <th>modelName</th>\n",
       "      <th>basePrice</th>\n",
       "      <th>salePrice</th>\n",
       "      <th>Гарантия</th>\n",
       "      <th>Серия</th>\n",
       "      <th>Состояние</th>\n",
       "      <th>Разрешение экрана</th>\n",
       "      <th>Тип процессора</th>\n",
       "      <th>...</th>\n",
       "      <th>Защитная пленка для экрана</th>\n",
       "      <th>Обратная беспроводная зарядка</th>\n",
       "      <th>Важная особенность</th>\n",
       "      <th>Удачное решение</th>\n",
       "      <th>Время в режиме разговора</th>\n",
       "      <th>Тип вилки</th>\n",
       "      <th>Сканер отпечатка пальца на задней панели</th>\n",
       "      <th>Датчики</th>\n",
       "      <th>Сканер отпечатка пальца на передней панели</th>\n",
       "      <th>Кабель Type-C - USB тип А</th>\n",
       "    </tr>\n",
       "  </thead>\n",
       "  <tbody>\n",
       "    <tr>\n",
       "      <th>0</th>\n",
       "      <td>30063534</td>\n",
       "      <td>Apple</td>\n",
       "      <td>iPhone 13 128GB Midnight</td>\n",
       "      <td>79999</td>\n",
       "      <td>65999</td>\n",
       "      <td>1 год</td>\n",
       "      <td>iPhone 13</td>\n",
       "      <td>новый</td>\n",
       "      <td>2532x1170 Пикс</td>\n",
       "      <td>A15 Bionic</td>\n",
       "      <td>...</td>\n",
       "      <td>NaN</td>\n",
       "      <td>NaN</td>\n",
       "      <td>NaN</td>\n",
       "      <td>NaN</td>\n",
       "      <td>NaN</td>\n",
       "      <td>NaN</td>\n",
       "      <td>NaN</td>\n",
       "      <td>NaN</td>\n",
       "      <td>NaN</td>\n",
       "      <td>NaN</td>\n",
       "    </tr>\n",
       "  </tbody>\n",
       "</table>\n",
       "<p>1 rows × 51 columns</p>\n",
       "</div>"
      ],
      "text/plain": [
       "    id_prod brandName                 modelName  basePrice  salePrice  \\\n",
       "0  30063534     Apple  iPhone 13 128GB Midnight      79999      65999   \n",
       "\n",
       "  Гарантия      Серия Состояние Разрешение экрана Тип процессора  ...  \\\n",
       "0    1 год  iPhone 13     новый    2532x1170 Пикс     A15 Bionic  ...   \n",
       "\n",
       "   Защитная пленка для экрана  Обратная беспроводная зарядка  \\\n",
       "0                         NaN                            NaN   \n",
       "\n",
       "   Важная особенность Удачное решение Время в режиме разговора Тип вилки  \\\n",
       "0                 NaN             NaN                      NaN       NaN   \n",
       "\n",
       "  Сканер отпечатка пальца на задней панели Датчики  \\\n",
       "0                                      NaN     NaN   \n",
       "\n",
       "  Сканер отпечатка пальца на передней панели Кабель Type-C - USB тип А  \n",
       "0                                        NaN                       NaN  \n",
       "\n",
       "[1 rows x 51 columns]"
      ]
     },
     "execution_count": 17,
     "metadata": {},
     "output_type": "execute_result"
    }
   ],
   "source": [
    "df_det.head(1)"
   ]
  },
  {
   "cell_type": "code",
   "execution_count": 18,
   "id": "d8ab2c34-5c28-4b22-82e6-3792e2e2072d",
   "metadata": {},
   "outputs": [
    {
     "data": {
      "text/html": [
       "<div>\n",
       "<style scoped>\n",
       "    .dataframe tbody tr th:only-of-type {\n",
       "        vertical-align: middle;\n",
       "    }\n",
       "\n",
       "    .dataframe tbody tr th {\n",
       "        vertical-align: top;\n",
       "    }\n",
       "\n",
       "    .dataframe thead th {\n",
       "        text-align: right;\n",
       "    }\n",
       "</style>\n",
       "<table border=\"1\" class=\"dataframe\">\n",
       "  <thead>\n",
       "    <tr style=\"text-align: right;\">\n",
       "      <th></th>\n",
       "      <th>id_rev</th>\n",
       "      <th>product_id</th>\n",
       "      <th>date</th>\n",
       "      <th>score</th>\n",
       "      <th>name</th>\n",
       "      <th>benefits</th>\n",
       "      <th>drawbacks</th>\n",
       "      <th>text</th>\n",
       "      <th>Power</th>\n",
       "      <th>Working_hours</th>\n",
       "      <th>Functionality</th>\n",
       "    </tr>\n",
       "  </thead>\n",
       "  <tbody>\n",
       "    <tr>\n",
       "      <th>0</th>\n",
       "      <td>rr61009250</td>\n",
       "      <td>30063534</td>\n",
       "      <td>2023-01-03</td>\n",
       "      <td>5.0</td>\n",
       "      <td>Динара</td>\n",
       "      <td>NaN</td>\n",
       "      <td>NaN</td>\n",
       "      <td>NaN</td>\n",
       "      <td>5.0</td>\n",
       "      <td>5.0</td>\n",
       "      <td>5.0</td>\n",
       "    </tr>\n",
       "  </tbody>\n",
       "</table>\n",
       "</div>"
      ],
      "text/plain": [
       "       id_rev  product_id       date  score    name benefits drawbacks text  \\\n",
       "0  rr61009250    30063534 2023-01-03    5.0  Динара      NaN       NaN  NaN   \n",
       "\n",
       "   Power  Working_hours  Functionality  \n",
       "0    5.0            5.0            5.0  "
      ]
     },
     "execution_count": 18,
     "metadata": {},
     "output_type": "execute_result"
    }
   ],
   "source": [
    "df_rev.head(1)"
   ]
  },
  {
   "cell_type": "markdown",
   "id": "86f3073c-a0c4-4ad2-81b0-c887f9b26f84",
   "metadata": {},
   "source": [
    "# Сборка общего DF"
   ]
  },
  {
   "cell_type": "code",
   "execution_count": 19,
   "id": "4e96b9b5-07c5-4d5c-a61e-f197c06b7981",
   "metadata": {},
   "outputs": [],
   "source": [
    "df_all_data = df_rev[col_for_mod_rev].merge(df_det[col_for_mod_det], how='left', left_on='product_id', right_on='id_prod')"
   ]
  },
  {
   "cell_type": "code",
   "execution_count": 20,
   "id": "defa8141-3a5d-4f46-8cfe-8644f5efbba9",
   "metadata": {},
   "outputs": [],
   "source": [
    "df_all_data = df_all_data.drop(labels=['product_id', 'id_prod'], axis=1)"
   ]
  },
  {
   "cell_type": "code",
   "execution_count": 21,
   "id": "da83c751-3613-42b9-86b7-7dfa1679d937",
   "metadata": {},
   "outputs": [
    {
     "data": {
      "text/html": [
       "<div>\n",
       "<style scoped>\n",
       "    .dataframe tbody tr th:only-of-type {\n",
       "        vertical-align: middle;\n",
       "    }\n",
       "\n",
       "    .dataframe tbody tr th {\n",
       "        vertical-align: top;\n",
       "    }\n",
       "\n",
       "    .dataframe thead th {\n",
       "        text-align: right;\n",
       "    }\n",
       "</style>\n",
       "<table border=\"1\" class=\"dataframe\">\n",
       "  <thead>\n",
       "    <tr style=\"text-align: right;\">\n",
       "      <th></th>\n",
       "      <th>benefits</th>\n",
       "      <th>drawbacks</th>\n",
       "      <th>text</th>\n",
       "      <th>name</th>\n",
       "      <th>score</th>\n",
       "      <th>date</th>\n",
       "      <th>brandName</th>\n",
       "      <th>modelName</th>\n",
       "      <th>Серия</th>\n",
       "      <th>SIM карта</th>\n",
       "      <th>...</th>\n",
       "      <th>Цвет</th>\n",
       "      <th>Операционная система</th>\n",
       "      <th>Разъем для наушников</th>\n",
       "      <th>Экран</th>\n",
       "      <th>Процессор</th>\n",
       "      <th>Оперативная память (RAM)</th>\n",
       "      <th>Основная камера МПикс</th>\n",
       "      <th>Встроенная память (ROM)</th>\n",
       "      <th>basePrice</th>\n",
       "      <th>salePrice</th>\n",
       "    </tr>\n",
       "  </thead>\n",
       "  <tbody>\n",
       "    <tr>\n",
       "      <th>0</th>\n",
       "      <td>NaN</td>\n",
       "      <td>NaN</td>\n",
       "      <td>NaN</td>\n",
       "      <td>Динара</td>\n",
       "      <td>5.0</td>\n",
       "      <td>2023-01-03</td>\n",
       "      <td>Apple</td>\n",
       "      <td>iPhone 13 128GB Midnight</td>\n",
       "      <td>iPhone 13</td>\n",
       "      <td>nano-SIM/eSim</td>\n",
       "      <td>...</td>\n",
       "      <td>темная ночь</td>\n",
       "      <td>iOS</td>\n",
       "      <td>NaN</td>\n",
       "      <td>NaN</td>\n",
       "      <td>NaN</td>\n",
       "      <td>NaN</td>\n",
       "      <td>NaN</td>\n",
       "      <td>128</td>\n",
       "      <td>79999</td>\n",
       "      <td>65999</td>\n",
       "    </tr>\n",
       "  </tbody>\n",
       "</table>\n",
       "<p>1 rows × 24 columns</p>\n",
       "</div>"
      ],
      "text/plain": [
       "  benefits drawbacks text    name  score       date brandName  \\\n",
       "0      NaN       NaN  NaN  Динара    5.0 2023-01-03     Apple   \n",
       "\n",
       "                  modelName      Серия      SIM карта  ...         Цвет  \\\n",
       "0  iPhone 13 128GB Midnight  iPhone 13  nano-SIM/eSim  ...  темная ночь   \n",
       "\n",
       "  Операционная система Разъем для наушников Экран Процессор  \\\n",
       "0                  iOS                  NaN   NaN       NaN   \n",
       "\n",
       "  Оперативная память (RAM) Основная камера МПикс Встроенная память (ROM)  \\\n",
       "0                      NaN                   NaN                     128   \n",
       "\n",
       "  basePrice salePrice  \n",
       "0     79999     65999  \n",
       "\n",
       "[1 rows x 24 columns]"
      ]
     },
     "execution_count": 21,
     "metadata": {},
     "output_type": "execute_result"
    }
   ],
   "source": [
    "df_all_data.head(1)"
   ]
  },
  {
   "cell_type": "code",
   "execution_count": null,
   "id": "0db33492-5335-424f-ac5c-51aff00559d4",
   "metadata": {},
   "outputs": [],
   "source": []
  },
  {
   "cell_type": "code",
   "execution_count": 22,
   "id": "896ff6a4-3137-4f42-b415-d8822e18d3a1",
   "metadata": {},
   "outputs": [],
   "source": [
    "df_all_data.loc[df_all_data['score'] < 5, 'score'] = 0"
   ]
  },
  {
   "cell_type": "code",
   "execution_count": 23,
   "id": "1f45e9e7-a4e4-4811-b0f5-2477a8ae8e00",
   "metadata": {},
   "outputs": [],
   "source": [
    "df_all_data.loc[df_all_data['score'] == 5, 'score'] = 1"
   ]
  },
  {
   "cell_type": "code",
   "execution_count": 24,
   "id": "ccd6df08-c2c6-4b71-b415-9edf168e07c4",
   "metadata": {},
   "outputs": [],
   "source": [
    "df_all_data['Оперативная память (RAM)'] = df_all_data['Оперативная память (RAM)'].astype(str)"
   ]
  },
  {
   "cell_type": "markdown",
   "id": "0c627a5d-c1c4-4e79-8937-fd10c1a2bd80",
   "metadata": {},
   "source": [
    "# Подготовка текстовых фичей"
   ]
  },
  {
   "cell_type": "markdown",
   "id": "1e791019-aeae-4000-b327-a4c2a7b2c453",
   "metadata": {},
   "source": [
    "## Так как у берта ограничение на длину текста, придется подрезать"
   ]
  },
  {
   "cell_type": "code",
   "execution_count": 25,
   "id": "f4ae7258-688d-46f0-b5e3-224f13465835",
   "metadata": {},
   "outputs": [
    {
     "data": {
      "text/plain": [
       "163      917\n",
       "340      721\n",
       "484      729\n",
       "496      712\n",
       "518      713\n",
       "527      580\n",
       "763      624\n",
       "942     1719\n",
       "983      586\n",
       "985      542\n",
       "1105     602\n",
       "1118     646\n",
       "1129     537\n",
       "1532     522\n",
       "2002     889\n",
       "2850     582\n",
       "3035     615\n",
       "3449     908\n",
       "3726     541\n",
       "3858    1298\n",
       "4206     564\n",
       "5363     727\n",
       "5375     554\n",
       "5407     766\n",
       "5430     557\n",
       "5510     569\n",
       "5531     791\n",
       "5541     853\n",
       "5776     595\n",
       "5833     518\n",
       "5879     655\n",
       "5938     514\n",
       "6330    1190\n",
       "6811    2000\n",
       "6923     548\n",
       "7168     745\n",
       "7169     747\n",
       "7307    1357\n",
       "8121     612\n",
       "8171     863\n",
       "Name: benefits, dtype: int64"
      ]
     },
     "execution_count": 25,
     "metadata": {},
     "output_type": "execute_result"
    }
   ],
   "source": [
    "df_all_data.loc[df_all_data['benefits'].str.len() > 512]['benefits'].str.len()"
   ]
  },
  {
   "cell_type": "code",
   "execution_count": 26,
   "id": "f6307611-3a30-4737-a700-cce309c06033",
   "metadata": {},
   "outputs": [],
   "source": [
    "def get_norm_df(df, col):\n",
    "    for i in tqdm(df[col]):\n",
    "        if len(i) > 512:\n",
    "            df[col] = df[col].replace({i: i[0:512]})\n",
    "    return df"
   ]
  },
  {
   "cell_type": "code",
   "execution_count": 30,
   "id": "2e52e87f-6f9f-4b59-ab56-8645eac54b5d",
   "metadata": {},
   "outputs": [
    {
     "name": "stderr",
     "output_type": "stream",
     "text": [
      "100%|█████████████████████████████████████████████████████████████████████████| 8185/8185 [00:00<00:00, 1637040.59it/s]\n"
     ]
    },
    {
     "data": {
      "text/html": [
       "<div>\n",
       "<style scoped>\n",
       "    .dataframe tbody tr th:only-of-type {\n",
       "        vertical-align: middle;\n",
       "    }\n",
       "\n",
       "    .dataframe tbody tr th {\n",
       "        vertical-align: top;\n",
       "    }\n",
       "\n",
       "    .dataframe thead th {\n",
       "        text-align: right;\n",
       "    }\n",
       "</style>\n",
       "<table border=\"1\" class=\"dataframe\">\n",
       "  <thead>\n",
       "    <tr style=\"text-align: right;\">\n",
       "      <th></th>\n",
       "      <th>benefits</th>\n",
       "      <th>drawbacks</th>\n",
       "      <th>text</th>\n",
       "      <th>name</th>\n",
       "      <th>score</th>\n",
       "      <th>date</th>\n",
       "      <th>brandName</th>\n",
       "      <th>modelName</th>\n",
       "      <th>Серия</th>\n",
       "      <th>SIM карта</th>\n",
       "      <th>...</th>\n",
       "      <th>Цвет</th>\n",
       "      <th>Операционная система</th>\n",
       "      <th>Разъем для наушников</th>\n",
       "      <th>Экран</th>\n",
       "      <th>Процессор</th>\n",
       "      <th>Оперативная память (RAM)</th>\n",
       "      <th>Основная камера МПикс</th>\n",
       "      <th>Встроенная память (ROM)</th>\n",
       "      <th>basePrice</th>\n",
       "      <th>salePrice</th>\n",
       "    </tr>\n",
       "  </thead>\n",
       "  <tbody>\n",
       "    <tr>\n",
       "      <th>0</th>\n",
       "      <td>NaN</td>\n",
       "      <td>NaN</td>\n",
       "      <td>NaN</td>\n",
       "      <td>Динара</td>\n",
       "      <td>1.0</td>\n",
       "      <td>2023-01-03</td>\n",
       "      <td>Apple</td>\n",
       "      <td>iPhone 13 128GB Midnight</td>\n",
       "      <td>iPhone 13</td>\n",
       "      <td>nano-SIM/eSim</td>\n",
       "      <td>...</td>\n",
       "      <td>темная ночь</td>\n",
       "      <td>iOS</td>\n",
       "      <td>NaN</td>\n",
       "      <td>NaN</td>\n",
       "      <td>NaN</td>\n",
       "      <td>NaN</td>\n",
       "      <td>NaN</td>\n",
       "      <td>128</td>\n",
       "      <td>79999</td>\n",
       "      <td>65999</td>\n",
       "    </tr>\n",
       "    <tr>\n",
       "      <th>1</th>\n",
       "      <td>ПО топовое, железо, камера и дизайн</td>\n",
       "      <td>Нет</td>\n",
       "      <td>Перешел с Андроида на Эпл. Скажу сразу приятно...</td>\n",
       "      <td>Лев</td>\n",
       "      <td>1.0</td>\n",
       "      <td>2022-07-14</td>\n",
       "      <td>Apple</td>\n",
       "      <td>iPhone 13 128GB Midnight</td>\n",
       "      <td>iPhone 13</td>\n",
       "      <td>nano-SIM/eSim</td>\n",
       "      <td>...</td>\n",
       "      <td>темная ночь</td>\n",
       "      <td>iOS</td>\n",
       "      <td>NaN</td>\n",
       "      <td>NaN</td>\n",
       "      <td>NaN</td>\n",
       "      <td>NaN</td>\n",
       "      <td>NaN</td>\n",
       "      <td>128</td>\n",
       "      <td>79999</td>\n",
       "      <td>65999</td>\n",
       "    </tr>\n",
       "    <tr>\n",
       "      <th>2</th>\n",
       "      <td>Телефон хороший, а магазин - нет.</td>\n",
       "      <td>Сам магазин Мвидео и отношение как к нелюдям. ...</td>\n",
       "      <td>Вечером приезжаю в магазин, оформляю кредит, п...</td>\n",
       "      <td>Александр</td>\n",
       "      <td>0.0</td>\n",
       "      <td>2024-03-18</td>\n",
       "      <td>Apple</td>\n",
       "      <td>iPhone 13 128GB Midnight</td>\n",
       "      <td>iPhone 13</td>\n",
       "      <td>nano-SIM/eSim</td>\n",
       "      <td>...</td>\n",
       "      <td>темная ночь</td>\n",
       "      <td>iOS</td>\n",
       "      <td>NaN</td>\n",
       "      <td>NaN</td>\n",
       "      <td>NaN</td>\n",
       "      <td>NaN</td>\n",
       "      <td>NaN</td>\n",
       "      <td>128</td>\n",
       "      <td>79999</td>\n",
       "      <td>65999</td>\n",
       "    </tr>\n",
       "    <tr>\n",
       "      <th>3</th>\n",
       "      <td>Бренд, стабильность, мощность, дизайн.</td>\n",
       "      <td>Отсутствие зарядки, закрытая система, нет 120H...</td>\n",
       "      <td>В общем-то наверное лучший Iphone по соотношен...</td>\n",
       "      <td>Сергей</td>\n",
       "      <td>1.0</td>\n",
       "      <td>2024-01-13</td>\n",
       "      <td>Apple</td>\n",
       "      <td>iPhone 13 128GB Midnight</td>\n",
       "      <td>iPhone 13</td>\n",
       "      <td>nano-SIM/eSim</td>\n",
       "      <td>...</td>\n",
       "      <td>темная ночь</td>\n",
       "      <td>iOS</td>\n",
       "      <td>NaN</td>\n",
       "      <td>NaN</td>\n",
       "      <td>NaN</td>\n",
       "      <td>NaN</td>\n",
       "      <td>NaN</td>\n",
       "      <td>128</td>\n",
       "      <td>79999</td>\n",
       "      <td>65999</td>\n",
       "    </tr>\n",
       "    <tr>\n",
       "      <th>4</th>\n",
       "      <td>NaN</td>\n",
       "      <td>NaN</td>\n",
       "      <td>NaN</td>\n",
       "      <td>Злата</td>\n",
       "      <td>0.0</td>\n",
       "      <td>2023-04-21</td>\n",
       "      <td>Apple</td>\n",
       "      <td>iPhone 13 128GB Midnight</td>\n",
       "      <td>iPhone 13</td>\n",
       "      <td>nano-SIM/eSim</td>\n",
       "      <td>...</td>\n",
       "      <td>темная ночь</td>\n",
       "      <td>iOS</td>\n",
       "      <td>NaN</td>\n",
       "      <td>NaN</td>\n",
       "      <td>NaN</td>\n",
       "      <td>NaN</td>\n",
       "      <td>NaN</td>\n",
       "      <td>128</td>\n",
       "      <td>79999</td>\n",
       "      <td>65999</td>\n",
       "    </tr>\n",
       "    <tr>\n",
       "      <th>...</th>\n",
       "      <td>...</td>\n",
       "      <td>...</td>\n",
       "      <td>...</td>\n",
       "      <td>...</td>\n",
       "      <td>...</td>\n",
       "      <td>...</td>\n",
       "      <td>...</td>\n",
       "      <td>...</td>\n",
       "      <td>...</td>\n",
       "      <td>...</td>\n",
       "      <td>...</td>\n",
       "      <td>...</td>\n",
       "      <td>...</td>\n",
       "      <td>...</td>\n",
       "      <td>...</td>\n",
       "      <td>...</td>\n",
       "      <td>...</td>\n",
       "      <td>...</td>\n",
       "      <td>...</td>\n",
       "      <td>...</td>\n",
       "      <td>...</td>\n",
       "    </tr>\n",
       "    <tr>\n",
       "      <th>8180</th>\n",
       "      <td>NaN</td>\n",
       "      <td>NaN</td>\n",
       "      <td>NaN</td>\n",
       "      <td>Аркадий</td>\n",
       "      <td>1.0</td>\n",
       "      <td>2024-01-20</td>\n",
       "      <td>realme</td>\n",
       "      <td>C67 6/128GB Green Oasis (RMX3890)</td>\n",
       "      <td>C67</td>\n",
       "      <td>2 nano-SIM</td>\n",
       "      <td>...</td>\n",
       "      <td>зеленый</td>\n",
       "      <td>Android 14</td>\n",
       "      <td>3.5 мм</td>\n",
       "      <td>6.72\"/2400x1080 Пикс</td>\n",
       "      <td>Qualcomm Snapdragon 685 2.8 ГГц</td>\n",
       "      <td>6.0</td>\n",
       "      <td>108/2</td>\n",
       "      <td>128</td>\n",
       "      <td>18999</td>\n",
       "      <td>16999</td>\n",
       "    </tr>\n",
       "    <tr>\n",
       "      <th>8181</th>\n",
       "      <td>NaN</td>\n",
       "      <td>NaN</td>\n",
       "      <td>NaN</td>\n",
       "      <td>Владимир</td>\n",
       "      <td>1.0</td>\n",
       "      <td>2024-03-19</td>\n",
       "      <td>realme</td>\n",
       "      <td>C67 6/128GB Green Oasis (RMX3890)</td>\n",
       "      <td>C67</td>\n",
       "      <td>2 nano-SIM</td>\n",
       "      <td>...</td>\n",
       "      <td>зеленый</td>\n",
       "      <td>Android 14</td>\n",
       "      <td>3.5 мм</td>\n",
       "      <td>6.72\"/2400x1080 Пикс</td>\n",
       "      <td>Qualcomm Snapdragon 685 2.8 ГГц</td>\n",
       "      <td>6.0</td>\n",
       "      <td>108/2</td>\n",
       "      <td>128</td>\n",
       "      <td>18999</td>\n",
       "      <td>16999</td>\n",
       "    </tr>\n",
       "    <tr>\n",
       "      <th>8182</th>\n",
       "      <td>телефон просто огонь</td>\n",
       "      <td>нет</td>\n",
       "      <td>за 14 тысяч купил и очень доволен, за эти день...</td>\n",
       "      <td>Роман</td>\n",
       "      <td>1.0</td>\n",
       "      <td>2024-03-07</td>\n",
       "      <td>realme</td>\n",
       "      <td>C67 6/128GB Green Oasis (RMX3890)</td>\n",
       "      <td>C67</td>\n",
       "      <td>2 nano-SIM</td>\n",
       "      <td>...</td>\n",
       "      <td>зеленый</td>\n",
       "      <td>Android 14</td>\n",
       "      <td>3.5 мм</td>\n",
       "      <td>6.72\"/2400x1080 Пикс</td>\n",
       "      <td>Qualcomm Snapdragon 685 2.8 ГГц</td>\n",
       "      <td>6.0</td>\n",
       "      <td>108/2</td>\n",
       "      <td>128</td>\n",
       "      <td>18999</td>\n",
       "      <td>16999</td>\n",
       "    </tr>\n",
       "    <tr>\n",
       "      <th>8183</th>\n",
       "      <td>NaN</td>\n",
       "      <td>NaN</td>\n",
       "      <td>Я этот телефон еще когда он в анонсах был выпр...</td>\n",
       "      <td>Юлька Е</td>\n",
       "      <td>1.0</td>\n",
       "      <td>2024-03-28</td>\n",
       "      <td>realme</td>\n",
       "      <td>C67 6/128GB Green Oasis (RMX3890)</td>\n",
       "      <td>C67</td>\n",
       "      <td>2 nano-SIM</td>\n",
       "      <td>...</td>\n",
       "      <td>зеленый</td>\n",
       "      <td>Android 14</td>\n",
       "      <td>3.5 мм</td>\n",
       "      <td>6.72\"/2400x1080 Пикс</td>\n",
       "      <td>Qualcomm Snapdragon 685 2.8 ГГц</td>\n",
       "      <td>6.0</td>\n",
       "      <td>108/2</td>\n",
       "      <td>128</td>\n",
       "      <td>18999</td>\n",
       "      <td>16999</td>\n",
       "    </tr>\n",
       "    <tr>\n",
       "      <th>8184</th>\n",
       "      <td>NaN</td>\n",
       "      <td>NaN</td>\n",
       "      <td>Я конкурентов данному смарту даже не вижу. Шик...</td>\n",
       "      <td>Искандер А</td>\n",
       "      <td>1.0</td>\n",
       "      <td>2024-03-19</td>\n",
       "      <td>realme</td>\n",
       "      <td>C67 6/128GB Green Oasis (RMX3890)</td>\n",
       "      <td>C67</td>\n",
       "      <td>2 nano-SIM</td>\n",
       "      <td>...</td>\n",
       "      <td>зеленый</td>\n",
       "      <td>Android 14</td>\n",
       "      <td>3.5 мм</td>\n",
       "      <td>6.72\"/2400x1080 Пикс</td>\n",
       "      <td>Qualcomm Snapdragon 685 2.8 ГГц</td>\n",
       "      <td>6.0</td>\n",
       "      <td>108/2</td>\n",
       "      <td>128</td>\n",
       "      <td>18999</td>\n",
       "      <td>16999</td>\n",
       "    </tr>\n",
       "  </tbody>\n",
       "</table>\n",
       "<p>8185 rows × 24 columns</p>\n",
       "</div>"
      ],
      "text/plain": [
       "                                    benefits  \\\n",
       "0                                        NaN   \n",
       "1        ПО топовое, железо, камера и дизайн   \n",
       "2          Телефон хороший, а магазин - нет.   \n",
       "3     Бренд, стабильность, мощность, дизайн.   \n",
       "4                                        NaN   \n",
       "...                                      ...   \n",
       "8180                                     NaN   \n",
       "8181                                     NaN   \n",
       "8182                    телефон просто огонь   \n",
       "8183                                     NaN   \n",
       "8184                                     NaN   \n",
       "\n",
       "                                              drawbacks  \\\n",
       "0                                                   NaN   \n",
       "1                                                   Нет   \n",
       "2     Сам магазин Мвидео и отношение как к нелюдям. ...   \n",
       "3     Отсутствие зарядки, закрытая система, нет 120H...   \n",
       "4                                                   NaN   \n",
       "...                                                 ...   \n",
       "8180                                                NaN   \n",
       "8181                                                NaN   \n",
       "8182                                                нет   \n",
       "8183                                                NaN   \n",
       "8184                                                NaN   \n",
       "\n",
       "                                                   text        name  score  \\\n",
       "0                                                   NaN      Динара    1.0   \n",
       "1     Перешел с Андроида на Эпл. Скажу сразу приятно...         Лев    1.0   \n",
       "2     Вечером приезжаю в магазин, оформляю кредит, п...   Александр    0.0   \n",
       "3     В общем-то наверное лучший Iphone по соотношен...      Сергей    1.0   \n",
       "4                                                   NaN       Злата    0.0   \n",
       "...                                                 ...         ...    ...   \n",
       "8180                                                NaN     Аркадий    1.0   \n",
       "8181                                                NaN    Владимир    1.0   \n",
       "8182  за 14 тысяч купил и очень доволен, за эти день...       Роман    1.0   \n",
       "8183  Я этот телефон еще когда он в анонсах был выпр...     Юлька Е    1.0   \n",
       "8184  Я конкурентов данному смарту даже не вижу. Шик...  Искандер А    1.0   \n",
       "\n",
       "           date brandName                          modelName      Серия  \\\n",
       "0    2023-01-03     Apple           iPhone 13 128GB Midnight  iPhone 13   \n",
       "1    2022-07-14     Apple           iPhone 13 128GB Midnight  iPhone 13   \n",
       "2    2024-03-18     Apple           iPhone 13 128GB Midnight  iPhone 13   \n",
       "3    2024-01-13     Apple           iPhone 13 128GB Midnight  iPhone 13   \n",
       "4    2023-04-21     Apple           iPhone 13 128GB Midnight  iPhone 13   \n",
       "...         ...       ...                                ...        ...   \n",
       "8180 2024-01-20    realme  C67 6/128GB Green Oasis (RMX3890)        C67   \n",
       "8181 2024-03-19    realme  C67 6/128GB Green Oasis (RMX3890)        C67   \n",
       "8182 2024-03-07    realme  C67 6/128GB Green Oasis (RMX3890)        C67   \n",
       "8183 2024-03-28    realme  C67 6/128GB Green Oasis (RMX3890)        C67   \n",
       "8184 2024-03-19    realme  C67 6/128GB Green Oasis (RMX3890)        C67   \n",
       "\n",
       "          SIM карта  ...         Цвет Операционная система  \\\n",
       "0     nano-SIM/eSim  ...  темная ночь                  iOS   \n",
       "1     nano-SIM/eSim  ...  темная ночь                  iOS   \n",
       "2     nano-SIM/eSim  ...  темная ночь                  iOS   \n",
       "3     nano-SIM/eSim  ...  темная ночь                  iOS   \n",
       "4     nano-SIM/eSim  ...  темная ночь                  iOS   \n",
       "...             ...  ...          ...                  ...   \n",
       "8180     2 nano-SIM  ...      зеленый           Android 14   \n",
       "8181     2 nano-SIM  ...      зеленый           Android 14   \n",
       "8182     2 nano-SIM  ...      зеленый           Android 14   \n",
       "8183     2 nano-SIM  ...      зеленый           Android 14   \n",
       "8184     2 nano-SIM  ...      зеленый           Android 14   \n",
       "\n",
       "     Разъем для наушников                 Экран  \\\n",
       "0                     NaN                   NaN   \n",
       "1                     NaN                   NaN   \n",
       "2                     NaN                   NaN   \n",
       "3                     NaN                   NaN   \n",
       "4                     NaN                   NaN   \n",
       "...                   ...                   ...   \n",
       "8180               3.5 мм  6.72\"/2400x1080 Пикс   \n",
       "8181               3.5 мм  6.72\"/2400x1080 Пикс   \n",
       "8182               3.5 мм  6.72\"/2400x1080 Пикс   \n",
       "8183               3.5 мм  6.72\"/2400x1080 Пикс   \n",
       "8184               3.5 мм  6.72\"/2400x1080 Пикс   \n",
       "\n",
       "                            Процессор Оперативная память (RAM)  \\\n",
       "0                                 NaN                      NaN   \n",
       "1                                 NaN                      NaN   \n",
       "2                                 NaN                      NaN   \n",
       "3                                 NaN                      NaN   \n",
       "4                                 NaN                      NaN   \n",
       "...                               ...                      ...   \n",
       "8180  Qualcomm Snapdragon 685 2.8 ГГц                      6.0   \n",
       "8181  Qualcomm Snapdragon 685 2.8 ГГц                      6.0   \n",
       "8182  Qualcomm Snapdragon 685 2.8 ГГц                      6.0   \n",
       "8183  Qualcomm Snapdragon 685 2.8 ГГц                      6.0   \n",
       "8184  Qualcomm Snapdragon 685 2.8 ГГц                      6.0   \n",
       "\n",
       "     Основная камера МПикс Встроенная память (ROM) basePrice salePrice  \n",
       "0                      NaN                     128     79999     65999  \n",
       "1                      NaN                     128     79999     65999  \n",
       "2                      NaN                     128     79999     65999  \n",
       "3                      NaN                     128     79999     65999  \n",
       "4                      NaN                     128     79999     65999  \n",
       "...                    ...                     ...       ...       ...  \n",
       "8180                 108/2                     128     18999     16999  \n",
       "8181                 108/2                     128     18999     16999  \n",
       "8182                 108/2                     128     18999     16999  \n",
       "8183                 108/2                     128     18999     16999  \n",
       "8184                 108/2                     128     18999     16999  \n",
       "\n",
       "[8185 rows x 24 columns]"
      ]
     },
     "execution_count": 30,
     "metadata": {},
     "output_type": "execute_result"
    }
   ],
   "source": [
    "get_norm_df(df_all_data, 'benefits')"
   ]
  },
  {
   "cell_type": "code",
   "execution_count": null,
   "id": "790a35a1-d60d-40fb-a1bf-af64c80ca8c9",
   "metadata": {},
   "outputs": [],
   "source": []
  },
  {
   "cell_type": "code",
   "execution_count": 31,
   "id": "32dc1554-3d74-48f2-a8bc-767c832bab66",
   "metadata": {},
   "outputs": [],
   "source": [
    "model_name = 'bert-base-uncased'"
   ]
  },
  {
   "cell_type": "code",
   "execution_count": 32,
   "id": "08f1ffb2-030a-4ff4-a32f-6471adba2e9d",
   "metadata": {},
   "outputs": [],
   "source": [
    "tokenizer = BertTokenizer.from_pretrained(model_name)"
   ]
  },
  {
   "cell_type": "code",
   "execution_count": 33,
   "id": "41619349-1ea9-47c8-b225-2387928b9a52",
   "metadata": {},
   "outputs": [],
   "source": [
    "bert = BertModel.from_pretrained(model_name)"
   ]
  },
  {
   "cell_type": "code",
   "execution_count": null,
   "id": "5d0e1afd-3941-4fde-8e0c-d163078c8554",
   "metadata": {},
   "outputs": [],
   "source": []
  },
  {
   "cell_type": "code",
   "execution_count": 34,
   "id": "52bcfc94-d6ae-44dc-9bfe-91e1baf05a08",
   "metadata": {},
   "outputs": [],
   "source": [
    "device = torch.device('cuda' if torch.cuda.is_available() else 'cpu')"
   ]
  },
  {
   "cell_type": "code",
   "execution_count": 35,
   "id": "793b930c-f9e9-476f-a69b-da12d59bfb06",
   "metadata": {
    "scrolled": true
   },
   "outputs": [
    {
     "data": {
      "text/plain": [
       "BertModel(\n",
       "  (embeddings): BertEmbeddings(\n",
       "    (word_embeddings): Embedding(30522, 768, padding_idx=0)\n",
       "    (position_embeddings): Embedding(512, 768)\n",
       "    (token_type_embeddings): Embedding(2, 768)\n",
       "    (LayerNorm): LayerNorm((768,), eps=1e-12, elementwise_affine=True)\n",
       "    (dropout): Dropout(p=0.1, inplace=False)\n",
       "  )\n",
       "  (encoder): BertEncoder(\n",
       "    (layer): ModuleList(\n",
       "      (0-11): 12 x BertLayer(\n",
       "        (attention): BertAttention(\n",
       "          (self): BertSelfAttention(\n",
       "            (query): Linear(in_features=768, out_features=768, bias=True)\n",
       "            (key): Linear(in_features=768, out_features=768, bias=True)\n",
       "            (value): Linear(in_features=768, out_features=768, bias=True)\n",
       "            (dropout): Dropout(p=0.1, inplace=False)\n",
       "          )\n",
       "          (output): BertSelfOutput(\n",
       "            (dense): Linear(in_features=768, out_features=768, bias=True)\n",
       "            (LayerNorm): LayerNorm((768,), eps=1e-12, elementwise_affine=True)\n",
       "            (dropout): Dropout(p=0.1, inplace=False)\n",
       "          )\n",
       "        )\n",
       "        (intermediate): BertIntermediate(\n",
       "          (dense): Linear(in_features=768, out_features=3072, bias=True)\n",
       "          (intermediate_act_fn): GELUActivation()\n",
       "        )\n",
       "        (output): BertOutput(\n",
       "          (dense): Linear(in_features=3072, out_features=768, bias=True)\n",
       "          (LayerNorm): LayerNorm((768,), eps=1e-12, elementwise_affine=True)\n",
       "          (dropout): Dropout(p=0.1, inplace=False)\n",
       "        )\n",
       "      )\n",
       "    )\n",
       "  )\n",
       "  (pooler): BertPooler(\n",
       "    (dense): Linear(in_features=768, out_features=768, bias=True)\n",
       "    (activation): Tanh()\n",
       "  )\n",
       ")"
      ]
     },
     "execution_count": 35,
     "metadata": {},
     "output_type": "execute_result"
    }
   ],
   "source": [
    "bert.to(device)"
   ]
  },
  {
   "cell_type": "code",
   "execution_count": 36,
   "id": "ca983600-e5fc-45d9-b670-ee53afe768e8",
   "metadata": {},
   "outputs": [],
   "source": [
    "def predict_embed(input_ids, bert_model):\n",
    "    with torch.no_grad():\n",
    "        last_hidden_states = bert_model(input_ids).last_hidden_state[0]\n",
    "    max_pool = nn.MaxPool1d(last_hidden_states.shape[0])\n",
    "    embed = max_pool(last_hidden_states.T).T[0]\n",
    "    return embed"
   ]
  },
  {
   "cell_type": "code",
   "execution_count": null,
   "id": "031da93e-5466-4c69-a05a-b799edd56dde",
   "metadata": {},
   "outputs": [],
   "source": []
  },
  {
   "cell_type": "code",
   "execution_count": 47,
   "id": "0a5eb94f-145b-487c-9f75-71a7cd92cb38",
   "metadata": {},
   "outputs": [
    {
     "name": "stderr",
     "output_type": "stream",
     "text": [
      "100%|████████████████████████████████████████████████████████████████████████████| 8185/8185 [00:05<00:00, 1486.45it/s]\n"
     ]
    }
   ],
   "source": [
    "tokens = []\n",
    "for txt in tqdm(df_all_data['text'].values):\n",
    "    tokens.append(torch.tensor([tokenizer.encode(txt, add_special_tokens=True)], dtype=torch.int, device=device))"
   ]
  },
  {
   "cell_type": "code",
   "execution_count": 48,
   "id": "19801d97-f14e-48ff-9f93-e1e3b7381c0e",
   "metadata": {},
   "outputs": [
    {
     "name": "stderr",
     "output_type": "stream",
     "text": [
      "100%|██████████████████████████████████████████████████████████████████████████████| 8185/8185 [02:29<00:00, 54.90it/s]\n"
     ]
    }
   ],
   "source": [
    "res = []\n",
    "for tks in tqdm(tokens):\n",
    "    res.append(predict_embed(tks, bert))"
   ]
  },
  {
   "cell_type": "code",
   "execution_count": 49,
   "id": "e629e3b6-8fad-40d5-9365-e8b3a3ac0e44",
   "metadata": {},
   "outputs": [
    {
     "name": "stderr",
     "output_type": "stream",
     "text": [
      "100%|███████████████████████████████████████████████████████████████████████████| 8185/8185 [00:00<00:00, 15384.18it/s]\n"
     ]
    }
   ],
   "source": [
    "embeds = []\n",
    "for emb in tqdm(res):\n",
    "    embeds.append(emb.cpu().numpy())"
   ]
  },
  {
   "cell_type": "code",
   "execution_count": 50,
   "id": "10fd7342-fc0a-41ea-bc8e-444f714e2803",
   "metadata": {},
   "outputs": [],
   "source": [
    "df_all_data['text'] = embeds"
   ]
  },
  {
   "cell_type": "code",
   "execution_count": 52,
   "id": "20b6c1b3-e45c-47ca-90d5-d0bfea780330",
   "metadata": {},
   "outputs": [
    {
     "data": {
      "text/html": [
       "<div>\n",
       "<style scoped>\n",
       "    .dataframe tbody tr th:only-of-type {\n",
       "        vertical-align: middle;\n",
       "    }\n",
       "\n",
       "    .dataframe tbody tr th {\n",
       "        vertical-align: top;\n",
       "    }\n",
       "\n",
       "    .dataframe thead th {\n",
       "        text-align: right;\n",
       "    }\n",
       "</style>\n",
       "<table border=\"1\" class=\"dataframe\">\n",
       "  <thead>\n",
       "    <tr style=\"text-align: right;\">\n",
       "      <th></th>\n",
       "      <th>benefits</th>\n",
       "      <th>drawbacks</th>\n",
       "      <th>text</th>\n",
       "      <th>name</th>\n",
       "      <th>score</th>\n",
       "      <th>date</th>\n",
       "      <th>brandName</th>\n",
       "      <th>modelName</th>\n",
       "      <th>Серия</th>\n",
       "      <th>SIM карта</th>\n",
       "      <th>...</th>\n",
       "      <th>Цвет</th>\n",
       "      <th>Операционная система</th>\n",
       "      <th>Разъем для наушников</th>\n",
       "      <th>Экран</th>\n",
       "      <th>Процессор</th>\n",
       "      <th>Оперативная память (RAM)</th>\n",
       "      <th>Основная камера МПикс</th>\n",
       "      <th>Встроенная память (ROM)</th>\n",
       "      <th>basePrice</th>\n",
       "      <th>salePrice</th>\n",
       "    </tr>\n",
       "  </thead>\n",
       "  <tbody>\n",
       "    <tr>\n",
       "      <th>0</th>\n",
       "      <td>[0.6981506, 0.0368617, 0.039393686, 0.40808898...</td>\n",
       "      <td>[0.6981506, 0.0368617, 0.039393686, 0.40808898...</td>\n",
       "      <td>[0.6981506, 0.0368617, 0.039393686, 0.40808898...</td>\n",
       "      <td>Динара</td>\n",
       "      <td>1.0</td>\n",
       "      <td>2023-01-03</td>\n",
       "      <td>Apple</td>\n",
       "      <td>iPhone 13 128GB Midnight</td>\n",
       "      <td>iPhone 13</td>\n",
       "      <td>nano-SIM/eSim</td>\n",
       "      <td>...</td>\n",
       "      <td>темная ночь</td>\n",
       "      <td>iOS</td>\n",
       "      <td>NaN</td>\n",
       "      <td>NaN</td>\n",
       "      <td>NaN</td>\n",
       "      <td>NaN</td>\n",
       "      <td>NaN</td>\n",
       "      <td>128</td>\n",
       "      <td>79999</td>\n",
       "      <td>65999</td>\n",
       "    </tr>\n",
       "  </tbody>\n",
       "</table>\n",
       "<p>1 rows × 24 columns</p>\n",
       "</div>"
      ],
      "text/plain": [
       "                                            benefits  \\\n",
       "0  [0.6981506, 0.0368617, 0.039393686, 0.40808898...   \n",
       "\n",
       "                                           drawbacks  \\\n",
       "0  [0.6981506, 0.0368617, 0.039393686, 0.40808898...   \n",
       "\n",
       "                                                text    name  score  \\\n",
       "0  [0.6981506, 0.0368617, 0.039393686, 0.40808898...  Динара    1.0   \n",
       "\n",
       "        date brandName                 modelName      Серия      SIM карта  \\\n",
       "0 2023-01-03     Apple  iPhone 13 128GB Midnight  iPhone 13  nano-SIM/eSim   \n",
       "\n",
       "   ...         Цвет Операционная система Разъем для наушников Экран Процессор  \\\n",
       "0  ...  темная ночь                  iOS                  NaN   NaN       NaN   \n",
       "\n",
       "  Оперативная память (RAM) Основная камера МПикс Встроенная память (ROM)  \\\n",
       "0                      NaN                   NaN                     128   \n",
       "\n",
       "  basePrice salePrice  \n",
       "0     79999     65999  \n",
       "\n",
       "[1 rows x 24 columns]"
      ]
     },
     "execution_count": 52,
     "metadata": {},
     "output_type": "execute_result"
    }
   ],
   "source": [
    "df_all_data.head(1)"
   ]
  },
  {
   "cell_type": "code",
   "execution_count": 53,
   "id": "e00c25ef-c223-4fa7-92e5-5a093dc29f65",
   "metadata": {},
   "outputs": [
    {
     "name": "stdout",
     "output_type": "stream",
     "text": [
      "<class 'pandas.core.frame.DataFrame'>\n",
      "RangeIndex: 8185 entries, 0 to 8184\n",
      "Data columns (total 24 columns):\n",
      " #   Column                          Non-Null Count  Dtype         \n",
      "---  ------                          --------------  -----         \n",
      " 0   benefits                        8185 non-null   object        \n",
      " 1   drawbacks                       8185 non-null   object        \n",
      " 2   text                            8185 non-null   object        \n",
      " 3   name                            8185 non-null   object        \n",
      " 4   score                           8185 non-null   float64       \n",
      " 5   date                            8185 non-null   datetime64[ns]\n",
      " 6   brandName                       8185 non-null   object        \n",
      " 7   modelName                       8185 non-null   object        \n",
      " 8   Серия                           8185 non-null   object        \n",
      " 9   SIM карта                       8185 non-null   object        \n",
      " 10  Поддержка стандартов            8185 non-null   object        \n",
      " 11  Порт USB                        8185 non-null   object        \n",
      " 12  Материал корпуса                8185 non-null   object        \n",
      " 13  Поддержка беспроводной зарядки  8185 non-null   object        \n",
      " 14  Цвет                            8185 non-null   object        \n",
      " 15  Операционная система            8185 non-null   object        \n",
      " 16  Разъем для наушников            8185 non-null   object        \n",
      " 17  Экран                           8185 non-null   object        \n",
      " 18  Процессор                       8185 non-null   object        \n",
      " 19  Оперативная память (RAM)        8185 non-null   object        \n",
      " 20  Основная камера МПикс           8185 non-null   object        \n",
      " 21  Встроенная память (ROM)         8185 non-null   int64         \n",
      " 22  basePrice                       8185 non-null   int64         \n",
      " 23  salePrice                       8185 non-null   int64         \n",
      "dtypes: datetime64[ns](1), float64(1), int64(3), object(19)\n",
      "memory usage: 1.5+ MB\n"
     ]
    }
   ],
   "source": [
    "df_all_data.info()"
   ]
  },
  {
   "cell_type": "markdown",
   "id": "cd3a7fd7-08c1-425d-bb5d-35e32c609b53",
   "metadata": {},
   "source": [
    "# Строим модель"
   ]
  },
  {
   "cell_type": "code",
   "execution_count": 54,
   "id": "5ec50169-6a77-4dfb-8d72-d9a0748f4911",
   "metadata": {},
   "outputs": [],
   "source": [
    "col_for_inf = ['score', 'date']\n",
    "num_feat = ['basePrice', 'salePrice']\n",
    "embed_feat = ['benefits', 'drawbacks', 'text']\n",
    "cat_feat = [f for f in df_all_data.columns if f not in embed_feat and f not in num_feat and f not in col_for_inf]\n",
    "target = 'score'"
   ]
  },
  {
   "cell_type": "code",
   "execution_count": 55,
   "id": "6869d235-9ebb-4c00-9e16-f9bf86193342",
   "metadata": {},
   "outputs": [],
   "source": [
    "features = [f for f in df_all_data.columns if f not in col_for_inf]"
   ]
  },
  {
   "cell_type": "code",
   "execution_count": 56,
   "id": "baaa7d15-2369-40f7-bb4d-1273c35ec1dd",
   "metadata": {},
   "outputs": [],
   "source": [
    "dev, oos = train_test_split(df_all_data, stratify=df_all_data[target], random_state=42, test_size=0.2)"
   ]
  },
  {
   "cell_type": "code",
   "execution_count": 58,
   "id": "b15df4ed-1936-4c37-92e3-ff9c715de0ae",
   "metadata": {},
   "outputs": [],
   "source": [
    "train, valid = train_test_split(dev, stratify=dev[target], random_state=42, test_size=0.2)"
   ]
  },
  {
   "cell_type": "code",
   "execution_count": 61,
   "id": "fa7903b9-d70e-4d7a-b737-a82c9f3b692e",
   "metadata": {},
   "outputs": [],
   "source": [
    "train_pool = Pool(\n",
    "    train[features],\n",
    "    label=train[target],\n",
    "    cat_features=cat_feat,\n",
    "    embedding_features=embed_feat,\n",
    ")\n",
    "\n",
    "oos_pool = Pool(\n",
    "    oos[features],\n",
    "    label=oos[target],\n",
    "    cat_features=cat_feat,\n",
    "    embedding_features=embed_feat,\n",
    ")\n",
    "\n",
    "valid_pool = Pool(\n",
    "    valid[features],\n",
    "    label=valid[target],\n",
    "    cat_features=cat_feat,\n",
    "    embedding_features=embed_feat,\n",
    ")"
   ]
  },
  {
   "cell_type": "code",
   "execution_count": null,
   "id": "65c8818a-fe7e-4c23-8307-f487e5f50d22",
   "metadata": {},
   "outputs": [],
   "source": []
  },
  {
   "cell_type": "code",
   "execution_count": 63,
   "id": "6b884780-de85-420b-a5d6-d0b4f0b45e28",
   "metadata": {},
   "outputs": [],
   "source": [
    "cbc = CatBoostClassifier(\n",
    "    iterations=1000,\n",
    "    early_stopping_rounds=100,\n",
    "    depth=4,\n",
    "    eval_metric='AUC',\n",
    ")"
   ]
  },
  {
   "cell_type": "code",
   "execution_count": 64,
   "id": "5d460c7e-ba7d-40bc-8982-f71064ae2661",
   "metadata": {},
   "outputs": [
    {
     "name": "stdout",
     "output_type": "stream",
     "text": [
      "Learning rate set to 0.047703\n",
      "0:\ttest: 0.5000000\tbest: 0.5000000 (0)\ttotal: 165ms\tremaining: 2m 45s\n",
      "1:\ttest: 0.5000000\tbest: 0.5000000 (0)\ttotal: 170ms\tremaining: 1m 24s\n",
      "2:\ttest: 0.5755399\tbest: 0.5755399 (2)\ttotal: 195ms\tremaining: 1m 4s\n",
      "3:\ttest: 0.5755399\tbest: 0.5755399 (2)\ttotal: 203ms\tremaining: 50.4s\n",
      "4:\ttest: 0.5755399\tbest: 0.5755399 (2)\ttotal: 210ms\tremaining: 41.9s\n",
      "5:\ttest: 0.5817002\tbest: 0.5817002 (5)\ttotal: 240ms\tremaining: 39.8s\n",
      "6:\ttest: 0.5817002\tbest: 0.5817002 (5)\ttotal: 262ms\tremaining: 37.1s\n",
      "7:\ttest: 0.5817002\tbest: 0.5817002 (5)\ttotal: 275ms\tremaining: 34.2s\n",
      "8:\ttest: 0.5915683\tbest: 0.5915683 (8)\ttotal: 304ms\tremaining: 33.5s\n",
      "9:\ttest: 0.5958289\tbest: 0.5958289 (9)\ttotal: 333ms\tremaining: 32.9s\n",
      "10:\ttest: 0.6003783\tbest: 0.6003783 (10)\ttotal: 363ms\tremaining: 32.6s\n",
      "11:\ttest: 0.6280246\tbest: 0.6280246 (11)\ttotal: 383ms\tremaining: 31.5s\n",
      "12:\ttest: 0.6280246\tbest: 0.6280246 (11)\ttotal: 411ms\tremaining: 31.2s\n",
      "13:\ttest: 0.6320463\tbest: 0.6320463 (13)\ttotal: 441ms\tremaining: 31.1s\n",
      "14:\ttest: 0.7046533\tbest: 0.7046533 (14)\ttotal: 468ms\tremaining: 30.7s\n",
      "15:\ttest: 0.6935325\tbest: 0.7046533 (14)\ttotal: 494ms\tremaining: 30.4s\n",
      "16:\ttest: 0.6955489\tbest: 0.7046533 (14)\ttotal: 508ms\tremaining: 29.4s\n",
      "17:\ttest: 0.6765154\tbest: 0.7046533 (14)\ttotal: 536ms\tremaining: 29.2s\n",
      "18:\ttest: 0.6826145\tbest: 0.7046533 (14)\ttotal: 570ms\tremaining: 29.4s\n",
      "19:\ttest: 0.6827034\tbest: 0.7046533 (14)\ttotal: 603ms\tremaining: 29.6s\n",
      "20:\ttest: 0.6903330\tbest: 0.7046533 (14)\ttotal: 633ms\tremaining: 29.5s\n",
      "21:\ttest: 0.6863029\tbest: 0.7046533 (14)\ttotal: 661ms\tremaining: 29.4s\n",
      "22:\ttest: 0.6882638\tbest: 0.7046533 (14)\ttotal: 688ms\tremaining: 29.2s\n",
      "23:\ttest: 0.6891859\tbest: 0.7046533 (14)\ttotal: 717ms\tremaining: 29.2s\n",
      "24:\ttest: 0.6838255\tbest: 0.7046533 (14)\ttotal: 732ms\tremaining: 28.5s\n",
      "25:\ttest: 0.6720326\tbest: 0.7046533 (14)\ttotal: 761ms\tremaining: 28.5s\n",
      "26:\ttest: 0.6738102\tbest: 0.7046533 (14)\ttotal: 781ms\tremaining: 28.2s\n",
      "27:\ttest: 0.6715132\tbest: 0.7046533 (14)\ttotal: 803ms\tremaining: 27.9s\n",
      "28:\ttest: 0.6638393\tbest: 0.7046533 (14)\ttotal: 836ms\tremaining: 28s\n",
      "29:\ttest: 0.6628505\tbest: 0.7046533 (14)\ttotal: 867ms\tremaining: 28s\n",
      "30:\ttest: 0.6632060\tbest: 0.7046533 (14)\ttotal: 895ms\tremaining: 28s\n",
      "31:\ttest: 0.6632060\tbest: 0.7046533 (14)\ttotal: 927ms\tremaining: 28s\n",
      "32:\ttest: 0.6632060\tbest: 0.7046533 (14)\ttotal: 956ms\tremaining: 28s\n",
      "33:\ttest: 0.6570318\tbest: 0.7046533 (14)\ttotal: 984ms\tremaining: 28s\n",
      "34:\ttest: 0.6531101\tbest: 0.7046533 (14)\ttotal: 1.01s\tremaining: 27.9s\n",
      "35:\ttest: 0.6531101\tbest: 0.7046533 (14)\ttotal: 1.03s\tremaining: 27.7s\n",
      "36:\ttest: 0.6483580\tbest: 0.7046533 (14)\ttotal: 1.07s\tremaining: 27.8s\n",
      "37:\ttest: 0.6464583\tbest: 0.7046533 (14)\ttotal: 1.1s\tremaining: 27.8s\n",
      "38:\ttest: 0.6409395\tbest: 0.7046533 (14)\ttotal: 1.13s\tremaining: 27.7s\n",
      "39:\ttest: 0.6442058\tbest: 0.7046533 (14)\ttotal: 1.15s\tremaining: 27.7s\n",
      "40:\ttest: 0.6447002\tbest: 0.7046533 (14)\ttotal: 1.18s\tremaining: 27.7s\n",
      "41:\ttest: 0.6440252\tbest: 0.7046533 (14)\ttotal: 1.21s\tremaining: 27.6s\n",
      "42:\ttest: 0.6428587\tbest: 0.7046533 (14)\ttotal: 1.24s\tremaining: 27.6s\n",
      "43:\ttest: 0.6423310\tbest: 0.7046533 (14)\ttotal: 1.26s\tremaining: 27.5s\n",
      "44:\ttest: 0.6449029\tbest: 0.7046533 (14)\ttotal: 1.28s\tremaining: 27.3s\n",
      "45:\ttest: 0.6440641\tbest: 0.7046533 (14)\ttotal: 1.32s\tremaining: 27.3s\n",
      "46:\ttest: 0.6459361\tbest: 0.7046533 (14)\ttotal: 1.34s\tremaining: 27.3s\n",
      "47:\ttest: 0.6455861\tbest: 0.7046533 (14)\ttotal: 1.36s\tremaining: 27.1s\n",
      "48:\ttest: 0.6477525\tbest: 0.7046533 (14)\ttotal: 1.39s\tremaining: 27s\n",
      "49:\ttest: 0.6465138\tbest: 0.7046533 (14)\ttotal: 1.42s\tremaining: 27s\n",
      "50:\ttest: 0.6470137\tbest: 0.7046533 (14)\ttotal: 1.43s\tremaining: 26.7s\n",
      "51:\ttest: 0.6553765\tbest: 0.7046533 (14)\ttotal: 1.45s\tremaining: 26.4s\n",
      "52:\ttest: 0.6563042\tbest: 0.7046533 (14)\ttotal: 1.48s\tremaining: 26.4s\n",
      "53:\ttest: 0.6551599\tbest: 0.7046533 (14)\ttotal: 1.5s\tremaining: 26.4s\n",
      "54:\ttest: 0.6551599\tbest: 0.7046533 (14)\ttotal: 1.53s\tremaining: 26.4s\n",
      "55:\ttest: 0.6524936\tbest: 0.7046533 (14)\ttotal: 1.56s\tremaining: 26.4s\n",
      "56:\ttest: 0.6464055\tbest: 0.7046533 (14)\ttotal: 1.59s\tremaining: 26.3s\n",
      "57:\ttest: 0.6512493\tbest: 0.7046533 (14)\ttotal: 1.62s\tremaining: 26.3s\n",
      "58:\ttest: 0.6534157\tbest: 0.7046533 (14)\ttotal: 1.65s\tremaining: 26.3s\n",
      "59:\ttest: 0.6474387\tbest: 0.7046533 (14)\ttotal: 1.68s\tremaining: 26.3s\n",
      "60:\ttest: 0.6476331\tbest: 0.7046533 (14)\ttotal: 1.71s\tremaining: 26.3s\n",
      "61:\ttest: 0.6470998\tbest: 0.7046533 (14)\ttotal: 1.74s\tremaining: 26.3s\n",
      "62:\ttest: 0.6470998\tbest: 0.7046533 (14)\ttotal: 1.75s\tremaining: 26s\n",
      "63:\ttest: 0.6507716\tbest: 0.7046533 (14)\ttotal: 1.77s\tremaining: 25.9s\n",
      "64:\ttest: 0.6507716\tbest: 0.7046533 (14)\ttotal: 1.79s\tremaining: 25.7s\n",
      "65:\ttest: 0.6448112\tbest: 0.7046533 (14)\ttotal: 1.82s\tremaining: 25.7s\n",
      "66:\ttest: 0.6491773\tbest: 0.7046533 (14)\ttotal: 1.85s\tremaining: 25.8s\n",
      "67:\ttest: 0.6498939\tbest: 0.7046533 (14)\ttotal: 1.89s\tremaining: 25.9s\n",
      "68:\ttest: 0.6522658\tbest: 0.7046533 (14)\ttotal: 1.92s\tremaining: 25.9s\n",
      "69:\ttest: 0.6523325\tbest: 0.7046533 (14)\ttotal: 1.94s\tremaining: 25.8s\n",
      "70:\ttest: 0.6511937\tbest: 0.7046533 (14)\ttotal: 1.97s\tremaining: 25.8s\n",
      "71:\ttest: 0.6533101\tbest: 0.7046533 (14)\ttotal: 2s\tremaining: 25.8s\n",
      "72:\ttest: 0.6528324\tbest: 0.7046533 (14)\ttotal: 2.03s\tremaining: 25.8s\n",
      "73:\ttest: 0.6530435\tbest: 0.7046533 (14)\ttotal: 2.06s\tremaining: 25.7s\n",
      "74:\ttest: 0.6527491\tbest: 0.7046533 (14)\ttotal: 2.09s\tremaining: 25.7s\n",
      "75:\ttest: 0.6527491\tbest: 0.7046533 (14)\ttotal: 2.1s\tremaining: 25.5s\n",
      "76:\ttest: 0.6540878\tbest: 0.7046533 (14)\ttotal: 2.13s\tremaining: 25.5s\n",
      "77:\ttest: 0.6543378\tbest: 0.7046533 (14)\ttotal: 2.16s\tremaining: 25.5s\n",
      "78:\ttest: 0.6578595\tbest: 0.7046533 (14)\ttotal: 2.19s\tremaining: 25.6s\n",
      "79:\ttest: 0.6584983\tbest: 0.7046533 (14)\ttotal: 2.22s\tremaining: 25.6s\n",
      "80:\ttest: 0.6590149\tbest: 0.7046533 (14)\ttotal: 2.25s\tremaining: 25.6s\n",
      "81:\ttest: 0.6613063\tbest: 0.7046533 (14)\ttotal: 2.28s\tremaining: 25.5s\n",
      "82:\ttest: 0.6616784\tbest: 0.7046533 (14)\ttotal: 2.31s\tremaining: 25.5s\n",
      "83:\ttest: 0.6617451\tbest: 0.7046533 (14)\ttotal: 2.34s\tremaining: 25.5s\n",
      "84:\ttest: 0.6636643\tbest: 0.7046533 (14)\ttotal: 2.37s\tremaining: 25.5s\n",
      "85:\ttest: 0.6658473\tbest: 0.7046533 (14)\ttotal: 2.39s\tremaining: 25.5s\n",
      "86:\ttest: 0.6648086\tbest: 0.7046533 (14)\ttotal: 2.42s\tremaining: 25.4s\n",
      "87:\ttest: 0.6655918\tbest: 0.7046533 (14)\ttotal: 2.45s\tremaining: 25.4s\n",
      "88:\ttest: 0.6646086\tbest: 0.7046533 (14)\ttotal: 2.48s\tremaining: 25.4s\n",
      "89:\ttest: 0.6641031\tbest: 0.7046533 (14)\ttotal: 2.51s\tremaining: 25.4s\n",
      "90:\ttest: 0.6641920\tbest: 0.7046533 (14)\ttotal: 2.54s\tremaining: 25.4s\n",
      "91:\ttest: 0.6650641\tbest: 0.7046533 (14)\ttotal: 2.57s\tremaining: 25.4s\n",
      "92:\ttest: 0.6641253\tbest: 0.7046533 (14)\ttotal: 2.6s\tremaining: 25.4s\n",
      "93:\ttest: 0.6641364\tbest: 0.7046533 (14)\ttotal: 2.62s\tremaining: 25.2s\n",
      "94:\ttest: 0.6645142\tbest: 0.7046533 (14)\ttotal: 2.65s\tremaining: 25.3s\n",
      "95:\ttest: 0.6623867\tbest: 0.7046533 (14)\ttotal: 2.68s\tremaining: 25.3s\n",
      "96:\ttest: 0.6634810\tbest: 0.7046533 (14)\ttotal: 2.71s\tremaining: 25.3s\n",
      "97:\ttest: 0.6640865\tbest: 0.7046533 (14)\ttotal: 2.74s\tremaining: 25.2s\n",
      "98:\ttest: 0.6643920\tbest: 0.7046533 (14)\ttotal: 2.77s\tremaining: 25.2s\n",
      "99:\ttest: 0.6674082\tbest: 0.7046533 (14)\ttotal: 2.79s\tremaining: 25.2s\n",
      "100:\ttest: 0.6675693\tbest: 0.7046533 (14)\ttotal: 2.82s\tremaining: 25.1s\n",
      "101:\ttest: 0.6671583\tbest: 0.7046533 (14)\ttotal: 2.85s\tremaining: 25.1s\n",
      "102:\ttest: 0.6671860\tbest: 0.7046533 (14)\ttotal: 2.88s\tremaining: 25.1s\n",
      "103:\ttest: 0.6672583\tbest: 0.7046533 (14)\ttotal: 2.91s\tremaining: 25.1s\n",
      "104:\ttest: 0.6669527\tbest: 0.7046533 (14)\ttotal: 2.94s\tremaining: 25.1s\n",
      "105:\ttest: 0.6671194\tbest: 0.7046533 (14)\ttotal: 2.98s\tremaining: 25.1s\n",
      "106:\ttest: 0.6666028\tbest: 0.7046533 (14)\ttotal: 3.01s\tremaining: 25.1s\n",
      "107:\ttest: 0.6689303\tbest: 0.7046533 (14)\ttotal: 3.04s\tremaining: 25.1s\n",
      "108:\ttest: 0.6684414\tbest: 0.7046533 (14)\ttotal: 3.07s\tremaining: 25.1s\n",
      "109:\ttest: 0.6677693\tbest: 0.7046533 (14)\ttotal: 3.1s\tremaining: 25.1s\n",
      "110:\ttest: 0.6678082\tbest: 0.7046533 (14)\ttotal: 3.12s\tremaining: 25s\n",
      "111:\ttest: 0.6678971\tbest: 0.7046533 (14)\ttotal: 3.15s\tremaining: 25s\n",
      "112:\ttest: 0.6678748\tbest: 0.7046533 (14)\ttotal: 3.18s\tremaining: 24.9s\n",
      "113:\ttest: 0.6678748\tbest: 0.7046533 (14)\ttotal: 3.2s\tremaining: 24.9s\n",
      "114:\ttest: 0.6686136\tbest: 0.7046533 (14)\ttotal: 3.23s\tremaining: 24.8s\n",
      "Stopped by overfitting detector  (100 iterations wait)\n",
      "\n",
      "bestTest = 0.7046532685\n",
      "bestIteration = 14\n",
      "\n",
      "Shrink model to first 15 iterations.\n"
     ]
    },
    {
     "data": {
      "text/plain": [
       "<catboost.core.CatBoostClassifier at 0x25bb5cffa50>"
      ]
     },
     "execution_count": 64,
     "metadata": {},
     "output_type": "execute_result"
    }
   ],
   "source": [
    "cbc.fit(train_pool, eval_set=valid_pool)"
   ]
  },
  {
   "cell_type": "code",
   "execution_count": null,
   "id": "86d27bcf-8d5c-4524-9321-4839a4674155",
   "metadata": {},
   "outputs": [],
   "source": []
  },
  {
   "cell_type": "code",
   "execution_count": 65,
   "id": "5f196400-3137-4f2c-b3fd-6848b43b522f",
   "metadata": {},
   "outputs": [],
   "source": [
    "def get_metric(model, pool, metric):\n",
    "    return metric(pool.get_label(), model.predict(pool, prediction_type=\"RawFormulaVal\"))\n",
    "\n",
    "\n",
    "def print_cb_metrics(model, train_pool, valid_pool=None, oos_pool=None, oot_pool=None, metric=None):\n",
    "    \n",
    "    metrics = {\n",
    "        'train': None,\n",
    "        'valid': None,\n",
    "        'oos': None,\n",
    "        'oot': None,\n",
    "    }\n",
    "    \n",
    "    if metric is None:\n",
    "        metric = {'name': 'AUC', 'func': roc_auc_score}\n",
    "    \n",
    "    tr_m = get_metric(model, train_pool, metric.get('func'))\n",
    "    print(f\"TRAIN {metric.get('name')}: [{tr_m}]\")\n",
    "    metrics['train'] = tr_m\n",
    "    \n",
    "    if valid_pool is not None:\n",
    "        v_m = get_metric(model, valid_pool, metric.get('func'))\n",
    "        print(f\"VALID {metric.get('name')}: [{v_m}]\")\n",
    "        metrics['valid'] = v_m\n",
    "    \n",
    "    if oos_pool is not None:\n",
    "        o_m = get_metric(model, oos_pool, metric.get('func'))\n",
    "        print(f\"OOS {metric.get('name')}: [{o_m}]\")\n",
    "        metrics['oos'] = o_m\n",
    "        \n",
    "    if oot_pool is not None:\n",
    "        ot_m = get_metric(model, oot_pool, metric.get('func'))\n",
    "        print(f\"OOT {metric.get('name')}: [{ot_m}]\")\n",
    "        metrics['oot'] = ot_m\n",
    "    \n",
    "    return metrics"
   ]
  },
  {
   "cell_type": "code",
   "execution_count": null,
   "id": "1c719744-1ab5-46b5-8afc-3e5867cdee33",
   "metadata": {},
   "outputs": [],
   "source": []
  },
  {
   "cell_type": "code",
   "execution_count": 68,
   "id": "2cd7f66d-8ca0-4d9a-85d1-ffcf30daccce",
   "metadata": {},
   "outputs": [],
   "source": [
    "auc = {'name': 'AUC', 'func': roc_auc_score}"
   ]
  },
  {
   "cell_type": "code",
   "execution_count": 69,
   "id": "14c40fe6-9745-4b11-9b3f-5f02279b0c3c",
   "metadata": {},
   "outputs": [
    {
     "name": "stdout",
     "output_type": "stream",
     "text": [
      "TRAIN AUC: [0.7410457232002083]\n",
      "VALID AUC: [0.7046532684530951]\n",
      "OOS AUC: [0.7133219531277785]\n"
     ]
    },
    {
     "data": {
      "text/plain": [
       "{'train': 0.7410457232002083,\n",
       " 'valid': 0.7046532684530951,\n",
       " 'oos': 0.7133219531277785,\n",
       " 'oot': None}"
      ]
     },
     "execution_count": 69,
     "metadata": {},
     "output_type": "execute_result"
    }
   ],
   "source": [
    "print_cb_metrics(model=cbc, train_pool=train_pool, valid_pool=valid_pool, oos_pool=oos_pool, oot_pool=None, metric=auc)"
   ]
  },
  {
   "cell_type": "code",
   "execution_count": null,
   "id": "98030daa-5304-4941-909d-f6377d66c0d1",
   "metadata": {},
   "outputs": [],
   "source": []
  },
  {
   "cell_type": "code",
   "execution_count": null,
   "id": "8ca9169b-1679-40e6-9933-f160fb79d784",
   "metadata": {},
   "outputs": [],
   "source": []
  },
  {
   "cell_type": "code",
   "execution_count": null,
   "id": "78e99936-1aca-4afc-b1c4-371c99401fc7",
   "metadata": {},
   "outputs": [],
   "source": []
  },
  {
   "cell_type": "code",
   "execution_count": 70,
   "id": "5587e39d-e8b6-476c-a175-89ebf36b3ea2",
   "metadata": {},
   "outputs": [
    {
     "name": "stdout",
     "output_type": "stream",
     "text": [
      "Training on fold [0/6]\n",
      "\n",
      "bestTest = 0.937195122\n",
      "bestIteration = 87\n",
      "\n",
      "Training on fold [1/6]\n",
      "\n",
      "bestTest = 0.937195122\n",
      "bestIteration = 61\n",
      "\n",
      "Training on fold [2/6]\n",
      "\n",
      "bestTest = 0.9376727049\n",
      "bestIteration = 94\n",
      "\n",
      "Training on fold [3/6]\n",
      "\n",
      "bestTest = 0.9363387146\n",
      "bestIteration = 1\n",
      "\n",
      "Training on fold [4/6]\n",
      "\n",
      "bestTest = 0.9366240098\n",
      "bestIteration = 237\n",
      "\n",
      "Training on fold [5/6]\n",
      "\n",
      "bestTest = 0.9369479135\n",
      "bestIteration = 19\n",
      "\n"
     ]
    }
   ],
   "source": [
    "cv_params = {\n",
    "    \"iterations\": 250,\n",
    "    \"learning_rate\": 0.1,\n",
    "    \"depth\": 4,\n",
    "    \"l2_leaf_reg\": 1,\n",
    "    \"loss_function\": 'Logloss',\n",
    "    # \"border_count\": 256,\n",
    "    \"task_type\": \"CPU\",\n",
    "    # \"gpu_ram_part\": 1,\n",
    "    \"random_state\": 42,\n",
    "    \"eval_metric\": \"F1\",\n",
    "    \"silent\": True,\n",
    "}\n",
    "\n",
    "rskf = RepeatedStratifiedKFold(n_splits=3, n_repeats=2)\n",
    "\n",
    "cv_res, cv_models = cv(\n",
    "    pool=train_pool,\n",
    "    params=cv_params,\n",
    "    partition_random_seed=0,\n",
    "    seed=42,\n",
    "    shuffle=True,\n",
    "    logging_level=None,\n",
    "    folds=rskf,\n",
    "    return_models=True,\n",
    ")"
   ]
  },
  {
   "cell_type": "code",
   "execution_count": null,
   "id": "541d0f49-59a6-43eb-852d-d7578d6386e4",
   "metadata": {},
   "outputs": [],
   "source": []
  },
  {
   "cell_type": "code",
   "execution_count": 71,
   "id": "43be24c8-0b40-4382-bba5-97abc5ab266b",
   "metadata": {},
   "outputs": [],
   "source": [
    "class CustomCBModel:\n",
    "    def __init__(self, cv_models):\n",
    "        self._models = cv_models\n",
    "    \n",
    "    def _predict(self, pool):\n",
    "        preds = np.empty((pool.shape[0], len(cv_models)))\n",
    "        for i, model in enumerate(self._models):\n",
    "            preds[:, i] = model.predict(pool, prediction_type='Probability')[:, -1]\n",
    "        preds = preds.sum(axis=1) / len(self._models)\n",
    "        return preds\n",
    "    \n",
    "    def predict(self, pool, prediction_type='Probability', threshhold=0.5):\n",
    "        if prediction_type == 'Probability':\n",
    "            return self._predict(pool)\n",
    "        elif prediction_type == 'Classes':\n",
    "            return (self._predict(pool) >= threshhold).astype(int)\n",
    "        else:\n",
    "            raise NotImplementedError(f\"Passed prediction_type={prediction_type} is not allowed! Use some of ['Probability', 'Classes']\")"
   ]
  },
  {
   "cell_type": "code",
   "execution_count": null,
   "id": "4933a402-28c2-43a6-8162-a6edd3ca720e",
   "metadata": {},
   "outputs": [],
   "source": []
  },
  {
   "cell_type": "code",
   "execution_count": 72,
   "id": "f92e2c9d-493b-46c3-bd10-ae6d2509dbdc",
   "metadata": {},
   "outputs": [],
   "source": [
    "cbc_wrapper = CustomCBModel(cv_models)"
   ]
  },
  {
   "cell_type": "code",
   "execution_count": 75,
   "id": "e4898774-5a94-4784-914f-03e6b3267827",
   "metadata": {},
   "outputs": [
    {
     "data": {
      "text/plain": [
       "0.936731999593785"
      ]
     },
     "execution_count": 75,
     "metadata": {},
     "output_type": "execute_result"
    }
   ],
   "source": [
    "f1_score(train_pool.get_label(), cbc_wrapper.predict(train_pool, prediction_type='Classes'))"
   ]
  },
  {
   "cell_type": "code",
   "execution_count": 76,
   "id": "893dc083-931d-4e6e-ac99-5459093ceb65",
   "metadata": {},
   "outputs": [
    {
     "data": {
      "text/plain": [
       "0.9369720597790773"
      ]
     },
     "execution_count": 76,
     "metadata": {},
     "output_type": "execute_result"
    }
   ],
   "source": [
    "f1_score(oos_pool.get_label(), cbc_wrapper.predict(oos_pool, prediction_type='Classes'))"
   ]
  },
  {
   "cell_type": "code",
   "execution_count": 80,
   "id": "2e9b772f-a020-4e31-ab5c-72f8e5a4f2f7",
   "metadata": {},
   "outputs": [
    {
     "data": {
      "text/plain": [
       "0.6674427594080174"
      ]
     },
     "execution_count": 80,
     "metadata": {},
     "output_type": "execute_result"
    }
   ],
   "source": [
    "roc_auc_score(train_pool.get_label(), cbc_wrapper.predict(train_pool, prediction_type='Probability'))"
   ]
  },
  {
   "cell_type": "code",
   "execution_count": 78,
   "id": "8a042238-2e60-4433-9e4f-aec4e770abc8",
   "metadata": {},
   "outputs": [
    {
     "data": {
      "text/plain": [
       "0.5854546747750631"
      ]
     },
     "execution_count": 78,
     "metadata": {},
     "output_type": "execute_result"
    }
   ],
   "source": [
    "roc_auc_score(oos_pool.get_label(), cbc_wrapper.predict(oos_pool, prediction_type='Probability'))"
   ]
  }
 ],
 "metadata": {
  "kernelspec": {
   "display_name": "Python 3 (ipykernel)",
   "language": "python",
   "name": "python3"
  },
  "language_info": {
   "codemirror_mode": {
    "name": "ipython",
    "version": 3
   },
   "file_extension": ".py",
   "mimetype": "text/x-python",
   "name": "python",
   "nbconvert_exporter": "python",
   "pygments_lexer": "ipython3",
   "version": "3.11.5"
  }
 },
 "nbformat": 4,
 "nbformat_minor": 5
}
