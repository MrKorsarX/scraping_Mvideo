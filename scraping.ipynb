{
 "cells": [
  {
   "cell_type": "markdown",
   "id": "6406bed7-0150-4b90-8edf-536031fad6fc",
   "metadata": {},
   "source": [
    "# Импорты"
   ]
  },
  {
   "cell_type": "code",
   "execution_count": 6,
   "id": "ce088115-dca4-4e67-aa58-7232bc8ae0b7",
   "metadata": {},
   "outputs": [],
   "source": [
    "import requests\n",
    "import pandas as pd\n",
    "import numpy as np\n",
    "import json\n",
    "import time\n",
    "import random\n",
    "\n",
    "from datetime import datetime        \n",
    "from tqdm import tqdm\n",
    "from bs4 import BeautifulSoup"
   ]
  },
  {
   "cell_type": "markdown",
   "id": "4918e148-d7d9-423d-8be5-ff386523185c",
   "metadata": {},
   "source": [
    "# COOKIES и Параметры"
   ]
  },
  {
   "cell_type": "code",
   "execution_count": 2,
   "id": "53b0be0d-aebf-4d5a-8d0b-c7e5357d48f1",
   "metadata": {},
   "outputs": [],
   "source": [
    "# Общие для всех запрсов.\n",
    "cookies = {\n",
    "   # Ваши cookies.\n",
    "}\n",
    "\n",
    "headers = {\n",
    "   # Ваш headers.\n",
    "}\n",
    "# Параметр для получения IDs товаров.\n",
    "params1 = {\n",
    "    'categoryId': '205',\n",
    "    'offset': '0',\n",
    "    'limit': '24',\n",
    "    'filterParams': 'WyJ0b2xrby12LW5hbGljaGlpIiwiIiwiZGEiXQ==',\n",
    "    'doTranslit': 'true',\n",
    "}\n",
    "\n",
    "# Параметр для получения характеристик и отзывов\n",
    "params2 = {\n",
    "    'productId': '42',\n",
    "}\n",
    "\n",
    "# Параметр для получения цены\n",
    "params3 = {\n",
    "    'productIds': '42',\n",
    "    'isPromoApplied': 'true',\n",
    "    'addBonusRubles': 'true',\n",
    "}"
   ]
  },
  {
   "cell_type": "markdown",
   "id": "714fb022-967d-4be7-b535-843aaffbb988",
   "metadata": {},
   "source": [
    "# Запросы"
   ]
  },
  {
   "cell_type": "code",
   "execution_count": 3,
   "id": "515fdd23-ddf2-4358-b969-98933a66549e",
   "metadata": {},
   "outputs": [],
   "source": [
    "# Запрос для получения IDs товаров --> json\n",
    "def get_product_ids(params, cookies, headers):\n",
    "    response = requests.get('https://www.mvideo.ru/bff/products/listing',\n",
    "                            params=params,\n",
    "                            cookies=cookies,\n",
    "                            headers=headers).json()\n",
    "\n",
    "    product_ids = response.get('body').get('products') # --> List['str'] products_IDS\n",
    "    return product_ids"
   ]
  },
  {
   "cell_type": "code",
   "execution_count": 4,
   "id": "2ad3750e-9317-4309-84ba-0101642739b7",
   "metadata": {},
   "outputs": [],
   "source": [
    "# Запрос для получения характеристик --> json\n",
    "def get_details(params, cookies, headers):\n",
    "    response = requests.get('https://www.mvideo.ru/bff/product-details',\n",
    "                            params=params,\n",
    "                            cookies=cookies,\n",
    "                            headers=headers).json()\n",
    "    return response"
   ]
  },
  {
   "cell_type": "code",
   "execution_count": 5,
   "id": "d31c24f7-4546-4036-ab02-6f07aff836b7",
   "metadata": {},
   "outputs": [],
   "source": [
    "# Запрос для получения отзывов --> json\n",
    "def get_reviews(params, cookies, headers):\n",
    "    response = requests.get('https://www.mvideo.ru/bff/reviews/product', \n",
    "                            params=params, \n",
    "                            cookies=cookies,\n",
    "                            headers=headers).json()\n",
    "    return response"
   ]
  },
  {
   "cell_type": "code",
   "execution_count": 6,
   "id": "cd010198-3fdd-43c3-a46a-fc535992e705",
   "metadata": {},
   "outputs": [],
   "source": [
    "# Запрос для получения цены --> json\n",
    "def get_prices(params, cookies, headers):\n",
    "    response = requests.get('https://www.mvideo.ru/bff/products/prices',\n",
    "                            params=params,\n",
    "                            cookies=cookies,\n",
    "                            headers=headers).json()\n",
    "    return response"
   ]
  },
  {
   "cell_type": "markdown",
   "id": "47c9feb7-2928-4cf8-92de-501b0ab2602a",
   "metadata": {},
   "source": [
    "# Функция для сборки всех ТХ и отзывов в словарь"
   ]
  },
  {
   "cell_type": "code",
   "execution_count": 7,
   "id": "46ae12c1-fd9c-4fc9-8586-edb6a9f3253c",
   "metadata": {},
   "outputs": [],
   "source": [
    "CONST_NAME_PAGE = 2808 # Последняя страница. На текущий момент 16.04.2024"
   ]
  },
  {
   "cell_type": "code",
   "execution_count": 8,
   "id": "b1a81a1d-7f4f-4f9f-a9f9-7c1e279603cd",
   "metadata": {},
   "outputs": [],
   "source": [
    "start_page = 0 # Стартовая страница для парсинга, изменяется с шагом в 24, нумерация с нуля.\n",
    "offset = 0 # Номер текущей страницы для парсинга, изменяется с шагом в 24, нумерация с нуля.\n",
    "CONST_NAME_PAGE = 0 # Номер последнея страницы для парсинга, изменяется с шагом в 24, нумерация с нуля.\n",
    "limit_ID = 10 # Количество продуктов на странице, изменяется с шагом в 1, нумерация с еденицы.\n",
    "categoryId = '205' # ID категории товара .\n",
    "\n",
    "dev_param1 = params1.copy() # Параметр для получения IDs товаров.\n",
    "dev_param2 = params2.copy() # Параметр для получения характеристик и отзывов.\n",
    "dev_param3 = params3.copy() # Параметр для получения цены.\n",
    "\n",
    "final_dict = {} # Финальная простыня =(\n",
    "all_ids_products = [] # Все айдишники товаров."
   ]
  },
  {
   "cell_type": "code",
   "execution_count": 7,
   "id": "68f60f1f-4c78-437b-8cc7-52b61966e7bd",
   "metadata": {},
   "outputs": [],
   "source": [
    "# Функция вернет словарь с техническими характеристиками и отзывами.\n",
    "def get_all_information(final_dict, all_ids_products, param1, param2, param3, \n",
    "                 start_page=0, last_page=2808, \n",
    "                 offset=0, category_id='205', await_time=10):\n",
    "    try:\n",
    "        param1['categoryId'] = category_id\n",
    "        try:\n",
    "            while start_page <= last_page:\n",
    "                product_ids = []\n",
    "                param1['offset'] = str(offset)\n",
    "                product_ids = get_product_ids(param1, cookies, headers)\n",
    "\n",
    "                for id in tqdm(product_ids):\n",
    "                    if id not in all_ids_products:\n",
    "                        param2['productId'] = id\n",
    "                        param3['productIds'] = id\n",
    "                        product_details = get_details(param2, cookies, headers)\n",
    "                        prices = get_prices(param3, cookies, headers)\n",
    "                        reviews = get_reviews(param2, cookies, headers)\n",
    "                        all_ids_products.append(id)\n",
    "                        final_dict[id] = {'product_details': product_details, 'reviews': reviews, 'prices': prices}\n",
    "                    time.sleep(np.random.randint(0, 3))\n",
    "                offset += 24\n",
    "                start_page += 24\n",
    "            return final_dict, all_ids_products\n",
    "        except Exception as e:\n",
    "            with open('error_log.txt', mode='a', encoding='utf-8') as file:\n",
    "                err = f\"\"\"\n",
    "                {'==' * 50}\n",
    "                ERROR-TIME: {str(datetime.now())} \n",
    "                {e}\n",
    "                {'==' * 50}\n",
    "                \"\"\"\n",
    "                file.write(err)\n",
    "            print(f\"TAKE ERROR COME TO SLEEP ON: {await_time} sec...\")\n",
    "            time.sleep(await_time)\n",
    "            final_dict, all_ids_products = get_all_information(\n",
    "                final_dict,\n",
    "                all_ids_products,\n",
    "                param1,\n",
    "                param2,\n",
    "                param3, \n",
    "                start_page=start_page,\n",
    "                last_page=last_page,\n",
    "                offset=offset, \n",
    "                category_id=category_id\n",
    "            )\n",
    "        return final_dict, all_ids_products\n",
    "    except KeyboardInterrupt:\n",
    "        return final_dict, all_ids_products"
   ]
  },
  {
   "cell_type": "markdown",
   "id": "f7791bf9-ec72-44a8-b992-6cb6d8d3b73b",
   "metadata": {},
   "source": [
    "# Функции извлекающие из словаря нужное"
   ]
  },
  {
   "cell_type": "code",
   "execution_count": 10,
   "id": "3b891ee6-8410-48d7-9778-8ad6f48f3c66",
   "metadata": {},
   "outputs": [],
   "source": [
    "# Функция вернет словарь без шелухи.\n",
    "def pars_product_details(dict_prod, ids):\n",
    "    norm_dict = {}\n",
    "\n",
    "    for id in tqdm(ids):\n",
    "        norm_dict[id] = {'brandName': dict_prod.get(id).get('product_details')\n",
    "                         .get('body').get('brandName')}\n",
    "\n",
    "        norm_dict[id].update({'modelName': dict_prod.get(id)\n",
    "                         .get('product_details')\n",
    "                         .get('body').get('modelName')})\n",
    "\n",
    "        norm_dict[id].update({'basePrice': dict_prod.get(id).get('prices').get('body')\n",
    "                              .get('materialPrices')[0].get('price').get('basePrice'),\n",
    "                             'salePrice': dict_prod.get(id).get('prices').get('body')\n",
    "                              .get('materialPrices')[0].get('price').get('salePrice')})\n",
    "\n",
    "        for d in dict_prod.get(id).get('product_details').get('body').get('properties').get('all'):\n",
    "            norm_dict[id].update({d.get('properties')[0].get('name'): d.get('properties')[0].get('value')})\n",
    "    return norm_dict"
   ]
  },
  {
   "cell_type": "code",
   "execution_count": 11,
   "id": "51bae645-5743-40b9-bfdd-4ead06c8df6d",
   "metadata": {},
   "outputs": [],
   "source": [
    "# Функция вернет словарь с отзывами.\n",
    "def pars_reviews(dict_prod, ids):\n",
    "    norm_dict = {}\n",
    "\n",
    "    for id in tqdm(ids):\n",
    "        norm_dict[id] = {}\n",
    "        for rev in dict_prod.get(id).get('reviews').get('body').get('reviews'):\n",
    "            norm_dict[id].update({rev.get('reviewId'): {'date': rev.get('date'), 'score': rev.get('score'), \n",
    "                                                       'benefits': rev.get('benefits'), 'drawbacks': rev.get('drawbacks'),\n",
    "                                                       'text': rev.get('text'), 'name': rev.get('name'), \n",
    "                                                       'scores': rev.get('scores')}})\n",
    "    return norm_dict"
   ]
  },
  {
   "cell_type": "code",
   "execution_count": 12,
   "id": "1adb046b-719e-4cb3-b0d0-7320d370dfa0",
   "metadata": {},
   "outputs": [],
   "source": [
    "# Функция вернет словарь отзывов без шелухи.\n",
    "def get_fin_rev_dict(d_rev, ids):\n",
    "    norm_dict = {}\n",
    "    for id in tqdm(ids):\n",
    "        for rev_id in d_rev[id]:\n",
    "            if len(d_rev.get(id).get(rev_id).get('scores')) != 0:\n",
    "                norm_dict[rev_id] = {'product_id': id, 'date': d_rev.get(id).get(rev_id).get('date'),\n",
    "                                    'score': d_rev.get(id).get(rev_id).get('score'),\n",
    "                                    'name': d_rev.get(id).get(rev_id).get('name'),\n",
    "                                    'benefits': d_rev.get(id).get(rev_id).get('benefits'),\n",
    "                                    'drawbacks': d_rev.get(id).get(rev_id).get('drawbacks'),\n",
    "                                    'text': d_rev.get(id).get(rev_id).get('text'),\n",
    "                                    'Power': d_rev.get(id).get(rev_id).get('scores')[0].get('value'),\n",
    "                                    'Working_hours': d_rev.get(id).get(rev_id).get('scores')[1].get('value'),\n",
    "                                    'Functionality': d_rev.get(id).get(rev_id).get('scores')[2].get('value')\n",
    "                                    }\n",
    "            else:\n",
    "                norm_dict[rev_id] = {'product_id': id, 'date': d_rev.get(id).get(rev_id).get('date'),\n",
    "                                    'score': d_rev.get(id).get(rev_id).get('score'),\n",
    "                                    'name': d_rev.get(id).get(rev_id).get('name'),\n",
    "                                    'benefits': d_rev.get(id).get(rev_id).get('benefits'),\n",
    "                                    'drawbacks': d_rev.get(id).get(rev_id).get('drawbacks'),\n",
    "                                    'text': d_rev.get(id).get(rev_id).get('text'),\n",
    "                                    'Power': None,\n",
    "                                    'Working_hours': None,\n",
    "                                    'Functionality': None\n",
    "                                    }\n",
    "        \n",
    "    return norm_dict"
   ]
  },
  {
   "cell_type": "markdown",
   "id": "2d3641af-8153-43e2-8e64-2a2902afdf99",
   "metadata": {},
   "source": [
    "# Тест и прогон"
   ]
  },
  {
   "cell_type": "code",
   "execution_count": 13,
   "id": "5ec72b71-54e0-49a8-b4f8-dacfd9df431f",
   "metadata": {},
   "outputs": [
    {
     "data": {
      "text/plain": [
       "['30066317',\n",
       " '30069599',\n",
       " '400194406',\n",
       " '400171626',\n",
       " '400246909',\n",
       " '400284088',\n",
       " '400257859',\n",
       " '400269112',\n",
       " '400259093',\n",
       " '400218233',\n",
       " '30069509',\n",
       " '30063534']"
      ]
     },
     "execution_count": 13,
     "metadata": {},
     "output_type": "execute_result"
    }
   ],
   "source": [
    "# Тестовый запрос для проверки.\n",
    "test = get_product_ids(params1, cookies, headers)\n",
    "test"
   ]
  },
  {
   "cell_type": "markdown",
   "id": "36a02690-e2df-4332-a7d6-f0e9c17ac630",
   "metadata": {},
   "source": [
    "# Получаем общий словарь"
   ]
  },
  {
   "cell_type": "code",
   "execution_count": 8,
   "id": "aec2eb9a-ffb1-49f6-98e3-49aaa89f38fc",
   "metadata": {},
   "outputs": [],
   "source": [
    "final_dict = {}\n",
    "all_ids_products = []"
   ]
  },
  {
   "cell_type": "code",
   "execution_count": null,
   "id": "52e56636-6d87-4c21-944c-d8f8214614e6",
   "metadata": {},
   "outputs": [],
   "source": [
    "final_dict, all_ids_products = get_all_information(\n",
    "    final_dict,\n",
    "    all_ids_products,\n",
    "    dev_param1,\n",
    "    dev_param2,\n",
    "    dev_param3,\n",
    "    last_page=100 * 24,\n",
    "    offset=0\n",
    ")"
   ]
  },
  {
   "cell_type": "markdown",
   "id": "397dee02-8559-44b2-abef-8f5eb696056e",
   "metadata": {},
   "source": [
    "# Получаем словарь и DF ТХ"
   ]
  },
  {
   "cell_type": "code",
   "execution_count": 63,
   "id": "09ce0dd1-33f0-4c87-9876-8a97265318f0",
   "metadata": {},
   "outputs": [
    {
     "name": "stderr",
     "output_type": "stream",
     "text": [
      "100%|███████████████████████████████████████████████████████████████████████████████| 12/12 [00:00<00:00, 12009.46it/s]\n"
     ]
    }
   ],
   "source": [
    "dict_fin = pars_product_details(final_dict, ids)"
   ]
  },
  {
   "cell_type": "code",
   "execution_count": 64,
   "id": "f64417ad-7ca8-48d0-9307-93c1528032c8",
   "metadata": {},
   "outputs": [],
   "source": [
    "df_det = pd.DataFrame.from_dict(dict_fin, orient='index')"
   ]
  },
  {
   "cell_type": "markdown",
   "id": "20e9f941-2ddd-4cce-8c32-bccb1d0d3016",
   "metadata": {},
   "source": [
    "# Получаем словарь и DF отзывов"
   ]
  },
  {
   "cell_type": "code",
   "execution_count": 65,
   "id": "15eb1925-b814-49fe-bb97-0b1798e0d4b4",
   "metadata": {},
   "outputs": [
    {
     "name": "stderr",
     "output_type": "stream",
     "text": [
      "100%|████████████████████████████████████████████████████████████████████████████████| 12/12 [00:00<00:00, 3997.11it/s]\n"
     ]
    }
   ],
   "source": [
    "rev_d = pars_reviews(final_dict, ids)"
   ]
  },
  {
   "cell_type": "code",
   "execution_count": 66,
   "id": "c4fab06b-b628-49c6-8841-0d3cb802afcb",
   "metadata": {},
   "outputs": [
    {
     "name": "stderr",
     "output_type": "stream",
     "text": [
      "100%|████████████████████████████████████████████████████████████████████████████████| 12/12 [00:00<00:00, 2399.37it/s]\n"
     ]
    }
   ],
   "source": [
    "reviews = get_fin_rev_dict(rev_d, ids)"
   ]
  },
  {
   "cell_type": "code",
   "execution_count": 67,
   "id": "1ade12ae-a7b0-452d-af97-d027d43dfe11",
   "metadata": {},
   "outputs": [],
   "source": [
    "df_rev = pd.DataFrame.from_dict(reviews, orient='index')"
   ]
  },
  {
   "cell_type": "markdown",
   "id": "c2cfb16f-d9b1-442b-a5ea-7e6c426e789c",
   "metadata": {},
   "source": [
    "# Смотрим результат"
   ]
  },
  {
   "cell_type": "code",
   "execution_count": 68,
   "id": "58f4624e-87df-4612-8abf-8bb786eb4abd",
   "metadata": {},
   "outputs": [
    {
     "data": {
      "text/plain": [
       "(12, 43)"
      ]
     },
     "execution_count": 68,
     "metadata": {},
     "output_type": "execute_result"
    }
   ],
   "source": [
    "df_det.shape"
   ]
  },
  {
   "cell_type": "code",
   "execution_count": 69,
   "id": "e06d370b-5f18-4e8f-a3be-fa9a0b627688",
   "metadata": {},
   "outputs": [
    {
     "data": {
      "text/html": [
       "<div>\n",
       "<style scoped>\n",
       "    .dataframe tbody tr th:only-of-type {\n",
       "        vertical-align: middle;\n",
       "    }\n",
       "\n",
       "    .dataframe tbody tr th {\n",
       "        vertical-align: top;\n",
       "    }\n",
       "\n",
       "    .dataframe thead th {\n",
       "        text-align: right;\n",
       "    }\n",
       "</style>\n",
       "<table border=\"1\" class=\"dataframe\">\n",
       "  <thead>\n",
       "    <tr style=\"text-align: right;\">\n",
       "      <th></th>\n",
       "      <th>brandName</th>\n",
       "      <th>modelName</th>\n",
       "      <th>basePrice</th>\n",
       "      <th>salePrice</th>\n",
       "      <th>Гарантия</th>\n",
       "      <th>Серия</th>\n",
       "      <th>Обратите внимание</th>\n",
       "      <th>Операционная система</th>\n",
       "      <th>Экран</th>\n",
       "      <th>Процессор</th>\n",
       "      <th>...</th>\n",
       "      <th>Разрешение экрана</th>\n",
       "      <th>Тип процессора</th>\n",
       "      <th>Количество основных камер</th>\n",
       "      <th>Сенсор распознавания лица</th>\n",
       "      <th>Кабель Type-C - Type-C</th>\n",
       "      <th>Поддержка беспроводной зарядки</th>\n",
       "      <th>Обратная беспроводная зарядка</th>\n",
       "      <th>В комплекте</th>\n",
       "      <th>Время в режиме разговора</th>\n",
       "      <th>Важная особенность</th>\n",
       "    </tr>\n",
       "  </thead>\n",
       "  <tbody>\n",
       "    <tr>\n",
       "      <th>400256055</th>\n",
       "      <td>HONOR</td>\n",
       "      <td>X9b 8/256GB Green</td>\n",
       "      <td>32999</td>\n",
       "      <td>28999</td>\n",
       "      <td>1 год</td>\n",
       "      <td>Honor X9b</td>\n",
       "      <td>мощный аккумулятор 5800мАч</td>\n",
       "      <td>Android MagicOS 7.2</td>\n",
       "      <td>6.78\"/1200x2652 Пикс</td>\n",
       "      <td>Qualcomm Snapdragon 6 gen1 4 x 2.2ГГц + 4 x 1....</td>\n",
       "      <td>...</td>\n",
       "      <td>NaN</td>\n",
       "      <td>NaN</td>\n",
       "      <td>NaN</td>\n",
       "      <td>NaN</td>\n",
       "      <td>NaN</td>\n",
       "      <td>NaN</td>\n",
       "      <td>NaN</td>\n",
       "      <td>NaN</td>\n",
       "      <td>NaN</td>\n",
       "      <td>NaN</td>\n",
       "    </tr>\n",
       "    <tr>\n",
       "      <th>400257033</th>\n",
       "      <td>Tecno</td>\n",
       "      <td>SPARK 20 8/128GB Gravity Black</td>\n",
       "      <td>13999</td>\n",
       "      <td>10499</td>\n",
       "      <td>1 год</td>\n",
       "      <td>Spark</td>\n",
       "      <td>NaN</td>\n",
       "      <td>Android 13</td>\n",
       "      <td>6.56\"/720x1612 Пикс</td>\n",
       "      <td>Mediatek</td>\n",
       "      <td>...</td>\n",
       "      <td>NaN</td>\n",
       "      <td>NaN</td>\n",
       "      <td>NaN</td>\n",
       "      <td>NaN</td>\n",
       "      <td>NaN</td>\n",
       "      <td>NaN</td>\n",
       "      <td>NaN</td>\n",
       "      <td>NaN</td>\n",
       "      <td>NaN</td>\n",
       "      <td>NaN</td>\n",
       "    </tr>\n",
       "    <tr>\n",
       "      <th>30067386</th>\n",
       "      <td>Samsung</td>\n",
       "      <td>Galaxy A34 128GB Awesome Violet</td>\n",
       "      <td>29999</td>\n",
       "      <td>24999</td>\n",
       "      <td>1 год</td>\n",
       "      <td>NaN</td>\n",
       "      <td>NaN</td>\n",
       "      <td>Android 13</td>\n",
       "      <td>6.6\"/2340x1080 Пикс</td>\n",
       "      <td>Mediatek Dimensity 1080 2.6 ГГц</td>\n",
       "      <td>...</td>\n",
       "      <td>NaN</td>\n",
       "      <td>NaN</td>\n",
       "      <td>NaN</td>\n",
       "      <td>NaN</td>\n",
       "      <td>NaN</td>\n",
       "      <td>NaN</td>\n",
       "      <td>NaN</td>\n",
       "      <td>NaN</td>\n",
       "      <td>NaN</td>\n",
       "      <td>NaN</td>\n",
       "    </tr>\n",
       "  </tbody>\n",
       "</table>\n",
       "<p>3 rows × 43 columns</p>\n",
       "</div>"
      ],
      "text/plain": [
       "          brandName                        modelName  basePrice  salePrice  \\\n",
       "400256055     HONOR                X9b 8/256GB Green      32999      28999   \n",
       "400257033     Tecno   SPARK 20 8/128GB Gravity Black      13999      10499   \n",
       "30067386    Samsung  Galaxy A34 128GB Awesome Violet      29999      24999   \n",
       "\n",
       "          Гарантия      Серия           Обратите внимание  \\\n",
       "400256055    1 год  Honor X9b  мощный аккумулятор 5800мАч   \n",
       "400257033    1 год      Spark                         NaN   \n",
       "30067386     1 год        NaN                         NaN   \n",
       "\n",
       "          Операционная система                 Экран  \\\n",
       "400256055  Android MagicOS 7.2  6.78\"/1200x2652 Пикс   \n",
       "400257033           Android 13   6.56\"/720x1612 Пикс   \n",
       "30067386            Android 13   6.6\"/2340x1080 Пикс   \n",
       "\n",
       "                                                   Процессор  ...  \\\n",
       "400256055  Qualcomm Snapdragon 6 gen1 4 x 2.2ГГц + 4 x 1....  ...   \n",
       "400257033                                           Mediatek  ...   \n",
       "30067386                     Mediatek Dimensity 1080 2.6 ГГц  ...   \n",
       "\n",
       "          Разрешение экрана Тип процессора Количество основных камер  \\\n",
       "400256055               NaN            NaN                       NaN   \n",
       "400257033               NaN            NaN                       NaN   \n",
       "30067386                NaN            NaN                       NaN   \n",
       "\n",
       "          Сенсор распознавания лица Кабель Type-C - Type-C  \\\n",
       "400256055                       NaN                    NaN   \n",
       "400257033                       NaN                    NaN   \n",
       "30067386                        NaN                    NaN   \n",
       "\n",
       "          Поддержка беспроводной зарядки Обратная беспроводная зарядка  \\\n",
       "400256055                            NaN                           NaN   \n",
       "400257033                            NaN                           NaN   \n",
       "30067386                             NaN                           NaN   \n",
       "\n",
       "          В комплекте Время в режиме разговора Важная особенность  \n",
       "400256055         NaN                      NaN                NaN  \n",
       "400257033         NaN                      NaN                NaN  \n",
       "30067386          NaN                      NaN                NaN  \n",
       "\n",
       "[3 rows x 43 columns]"
      ]
     },
     "execution_count": 69,
     "metadata": {},
     "output_type": "execute_result"
    }
   ],
   "source": [
    "df_det.head(3)"
   ]
  },
  {
   "cell_type": "code",
   "execution_count": null,
   "id": "f600e4b6-6200-45aa-ad9c-19cdbbeef3f4",
   "metadata": {},
   "outputs": [],
   "source": []
  },
  {
   "cell_type": "code",
   "execution_count": 70,
   "id": "b4dfda23-e8f3-42e1-87f1-0d2c6108d20d",
   "metadata": {},
   "outputs": [
    {
     "data": {
      "text/plain": [
       "(1127, 10)"
      ]
     },
     "execution_count": 70,
     "metadata": {},
     "output_type": "execute_result"
    }
   ],
   "source": [
    "df_rev.shape"
   ]
  },
  {
   "cell_type": "code",
   "execution_count": 71,
   "id": "5b71fbf2-590e-45f5-a2b8-93a07af3d4e0",
   "metadata": {},
   "outputs": [
    {
     "data": {
      "text/html": [
       "<div>\n",
       "<style scoped>\n",
       "    .dataframe tbody tr th:only-of-type {\n",
       "        vertical-align: middle;\n",
       "    }\n",
       "\n",
       "    .dataframe tbody tr th {\n",
       "        vertical-align: top;\n",
       "    }\n",
       "\n",
       "    .dataframe thead th {\n",
       "        text-align: right;\n",
       "    }\n",
       "</style>\n",
       "<table border=\"1\" class=\"dataframe\">\n",
       "  <thead>\n",
       "    <tr style=\"text-align: right;\">\n",
       "      <th></th>\n",
       "      <th>product_id</th>\n",
       "      <th>date</th>\n",
       "      <th>score</th>\n",
       "      <th>name</th>\n",
       "      <th>benefits</th>\n",
       "      <th>drawbacks</th>\n",
       "      <th>text</th>\n",
       "      <th>Power</th>\n",
       "      <th>Working_hours</th>\n",
       "      <th>Functionality</th>\n",
       "    </tr>\n",
       "  </thead>\n",
       "  <tbody>\n",
       "    <tr>\n",
       "      <th>r61745873</th>\n",
       "      <td>400256055</td>\n",
       "      <td>2024-04-08</td>\n",
       "      <td>5.0</td>\n",
       "      <td>Анна</td>\n",
       "      <td>Красивый, яркий экран. Моментальная реакция на...</td>\n",
       "      <td>Не нашла</td>\n",
       "      <td>Лучше айфона))</td>\n",
       "      <td>5.0</td>\n",
       "      <td>5.0</td>\n",
       "      <td>5.0</td>\n",
       "    </tr>\n",
       "    <tr>\n",
       "      <th>r61715430</th>\n",
       "      <td>400256055</td>\n",
       "      <td>2024-03-16</td>\n",
       "      <td>5.0</td>\n",
       "      <td>Vladimir</td>\n",
       "      <td>Аккумулятор. Изогнутый экран. Противоударное с...</td>\n",
       "      <td>Не выявил</td>\n",
       "      <td>None</td>\n",
       "      <td>5.0</td>\n",
       "      <td>5.0</td>\n",
       "      <td>5.0</td>\n",
       "    </tr>\n",
       "    <tr>\n",
       "      <th>r61704733</th>\n",
       "      <td>400256055</td>\n",
       "      <td>2024-03-13</td>\n",
       "      <td>5.0</td>\n",
       "      <td>вера</td>\n",
       "      <td>Камера супер. Видео супер.</td>\n",
       "      <td>Минусов нет.</td>\n",
       "      <td>Очень понравился товар. Всё просто супер. Каче...</td>\n",
       "      <td>5.0</td>\n",
       "      <td>5.0</td>\n",
       "      <td>5.0</td>\n",
       "    </tr>\n",
       "  </tbody>\n",
       "</table>\n",
       "</div>"
      ],
      "text/plain": [
       "          product_id        date  score      name  \\\n",
       "r61745873  400256055  2024-04-08    5.0      Анна   \n",
       "r61715430  400256055  2024-03-16    5.0  Vladimir   \n",
       "r61704733  400256055  2024-03-13    5.0      вера   \n",
       "\n",
       "                                                    benefits      drawbacks  \\\n",
       "r61745873  Красивый, яркий экран. Моментальная реакция на...       Не нашла   \n",
       "r61715430  Аккумулятор. Изогнутый экран. Противоударное с...      Не выявил   \n",
       "r61704733                         Камера супер. Видео супер.  Минусов нет.    \n",
       "\n",
       "                                                        text  Power  \\\n",
       "r61745873                                    Лучше айфона))     5.0   \n",
       "r61715430                                               None    5.0   \n",
       "r61704733  Очень понравился товар. Всё просто супер. Каче...    5.0   \n",
       "\n",
       "           Working_hours  Functionality  \n",
       "r61745873            5.0            5.0  \n",
       "r61715430            5.0            5.0  \n",
       "r61704733            5.0            5.0  "
      ]
     },
     "execution_count": 71,
     "metadata": {},
     "output_type": "execute_result"
    }
   ],
   "source": [
    "df_rev.head(3)"
   ]
  },
  {
   "cell_type": "code",
   "execution_count": 9,
   "id": "22107537-7c69-423f-8fcb-8075f1747fe5",
   "metadata": {},
   "outputs": [],
   "source": [
    "# 1. Будет реализован автоматический сбор всех данных в DF.\n",
    "# 2. Будет реализовано автоматическое генерирование cookies и headers\n",
    "# 3. Будет реализована возможность выбора категории товара"
   ]
  }
 ],
 "metadata": {
  "kernelspec": {
   "display_name": "Python 3 (ipykernel)",
   "language": "python",
   "name": "python3"
  },
  "language_info": {
   "codemirror_mode": {
    "name": "ipython",
    "version": 3
   },
   "file_extension": ".py",
   "mimetype": "text/x-python",
   "name": "python",
   "nbconvert_exporter": "python",
   "pygments_lexer": "ipython3",
   "version": "3.11.5"
  }
 },
 "nbformat": 4,
 "nbformat_minor": 5
}
